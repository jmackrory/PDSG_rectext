{
 "cells": [
  {
   "cell_type": "markdown",
   "metadata": {
    "ein.tags": "worksheet-0",
    "slideshow": {
     "slide_type": "-"
    }
   },
   "source": [
    "# Sentiment Analysis and Recommendation Engines in Spark\n",
    "\n",
    "This continues the August/September 2018 Portland Data Science Group's Applied Data Science Series on Sentiment Analysis, and the November/December 2017 sessions using BoardGameGeek data.  The data was scraped and cleaned by Matt Borthwick (www.dive-into.info) from www.boardgamegeek.com.  The full rating data set includes around 5M ratings for the 400 most popular games.  Additionally, there are 800k reviews with english text. \n",
    "\n",
    "So as a practical goal, I want to complete some projects in Spark.  I currently have small versions working in Python for text analysis,\n",
    "but I never really finished the recommendation engines.  I would like to port a known project to Spark, so I am prepared to try a larger problem.\n",
    "This data is tiny, so it is a nice play set to get used to working with Spark.  This is pretty small data: around 200MB for comments, and 150MB for ratings. \n",
    "\n",
    "As for the \"business goal\", there are two aspects to the project: How do you recommend new products to users based on past ratings.  For example new movies or music to fans.  That seems obviously useful for both consumers and for the business.\n",
    "A second less direct goal is to analyze the sentiment of a set of text.  This second task requires labelled data, which is provided here by the game scores.  In that sense we are training machine learning algorithms to recognize \"game good\" or \"game bad\".  How is this useful? Well, it can parse unscored text and give an estimated score, which could be used by aggregator sites.  The text analysis could also be used to extend the recommendations to note other references, or other similarities to other users.\n",
    "Third, this sort of text analysis might also be used to pick out consumer campaigns that otherwise clutter up user reviews. An example from video games is in Steam's reviews where Paradox studios faced a sustained campaign where all of their games were rated negatively due to the publisher's pricing tactics.  As someone looking to buy a Paradox game at a later date, I don't care about this campaign when judging the quality of the games.\n",
    "\n",
    "Prior projects tried to forecast a users scores directly and tried to minimize the RMSE of the scores.  I'm not sure that's useful overall, who cares about the distinction between 7.2 and 8.0?\n",
    "It's also quite hard to improve over simple guesses, e.g. all scores set to the mean 7.2, given how clustered the data are.\n",
    "That reflects that these are popular games, and thus likely to be well received by most players.\n",
    "The weighted RMSE (which includes an inverse weighting based on the number of reviews gives more impetus to the rarer negative reviews).\n",
    "Alternatively, \n",
    "Prior work threw neural networks at this as well, but I don't think it's worth the effort in this case (finicky, small gains, hard to understand).\n",
    "\n",
    "See the work in \"PDSG\\_recommend\" for other explorations."
   ]
  },
  {
   "cell_type": "markdown",
   "metadata": {
    "ein.tags": "worksheet-0",
    "slideshow": {
     "slide_type": "-"
    }
   },
   "source": [
    "## TODO\n",
    "\n",
    "- Use spark CountVectorizer (naive bayes (done), linear regression)\n",
    "- Cluster users and games\n",
    "- ALS"
   ]
  },
  {
   "cell_type": "markdown",
   "metadata": {
    "ein.tags": "worksheet-0",
    "slideshow": {
     "slide_type": "-"
    }
   },
   "source": [
    "## Possible questions:\n",
    "\n",
    "The data have already been substantially cleaned, with minor issues unrelated to gathering the data (e.g. old ratings below one,\n",
    "repeated comments/ratings, e.g. all ones).\n",
    "\n",
    "### Exploratory questions:\n",
    "- Number of reviews per game/user\n",
    "- Average review score by game/user\n",
    "- Spread in scores (std dev, inter-quartile range)\n",
    "- Game metadata: types, designers.\n",
    "- Pattern exploration: Which games did people rate at all?\n",
    "\n",
    "## Analysis/Modelling questions\n",
    "\n",
    "- Recommend new games based on similarities with others interests.\n",
    "\n",
    "- Cluster games based on game metadata (designers, artists, mechanisms, text)\n",
    "- Cluster users based on games played.\n",
    "\n",
    "- User analysis:\n",
    "   Are there multiple audiences here? \"Hardcore\" vs \"casual\" to use the gamer terms.\n",
    "   - use game metadata to segment reviews.\n",
    "\n",
    "Handling sparsity:\n",
    "- Use global function to estimate missing values.  Treat them as the average user.\n",
    "         \n",
    "Latent factor analysis with ALS algorithm\n",
    "       -decompose matrix into 2 matrices.  user features vs game features.\n",
    "       - if $S_{i,j}$ is matrix element for user $i$'s score of game $j$, then\n",
    "       decompose S=UW, where U is $N_{user} x N_{hidden}$, and $W = N_{hidden} x N_{game}$.\n",
    "       - Note that $S_{i,j}$ is a matrix with non-negative entries? Not just all eigenvalues are positive.\n",
    "       Hmm, a Pauli matrix $[[0,1],[1,0]]$ also has non-negative entries, but it has eigenvalues $\\pm 1$, thus is not positive.  \n",
    "\n",
    "Text analysis:\n",
    "- Naive bayes scoring for word sentiment.  \n",
    "- Linear regression on word counts\n",
    "- Associative rule mining (look at lift on 1 vs 2 grams.)\n"
   ]
  },
  {
   "cell_type": "markdown",
   "metadata": {
    "ein.tags": "worksheet-0",
    "slideshow": {
     "slide_type": "-"
    }
   },
   "source": [
    "For the recommendation engine I aim to try k-nearest neighbours and the latent factor analysis approach.\n",
    "I will also try some straightforward collaborative filtering with similarities based on user/game vectors.  I also thought about trying to analyze what games are preferred by reviewers with only a few reviews (n<5) vs many reviews (n>50).\n",
    "\n",
    "Need to think though the optimization criteria, and include appropriate regularization to avoid overfitting.  Maybe use mean-square-error on game scores for games the user has actually reviewed?"
   ]
  },
  {
   "cell_type": "code",
   "execution_count": 1,
   "metadata": {
    "autoscroll": false,
    "collapsed": false,
    "ein.hycell": false,
    "ein.tags": "worksheet-0",
    "slideshow": {
     "slide_type": "-"
    }
   },
   "outputs": [],
   "source": [
    "#standard library imports\n",
    "import numpy as np\n",
    "import pandas as pd\n",
    "import matplotlib.pyplot as plt\n",
    "from pyspark.conf import SparkConf\n",
    "from pyspark.sql import SparkSession\n",
    "\n",
    "%matplotlib inline\n",
    "%load_ext autoreload\n",
    "#save graphics as pdf too (for less revolting exported plots)\n",
    "from IPython.display import set_matplotlib_formats\n",
    "set_matplotlib_formats('png', 'pdf')"
   ]
  },
  {
   "cell_type": "code",
   "execution_count": 2,
   "metadata": {
    "autoscroll": false,
    "collapsed": false,
    "ein.hycell": false,
    "ein.tags": "worksheet-0",
    "slideshow": {
     "slide_type": "-"
    }
   },
   "outputs": [],
   "source": []
  },
  {
   "cell_type": "code",
   "execution_count": 2,
   "metadata": {
    "autoscroll": false,
    "collapsed": false,
    "ein.hycell": false,
    "ein.tags": "worksheet-0",
    "slideshow": {
     "slide_type": "-"
    }
   },
   "outputs": [],
   "source": [
    "#create the session to start using SparkSQL with Dataset/DataFrame API, which is recommended API.\n",
    "conf = SparkConf().setAppName(\"PySpark Recommendation Engine\")\\\n",
    "     .setAll([('spark.executor.memory','3g'),('spark.executor.cores','3'),('spark.cores.max','3')])\n",
    "spark = SparkSession.builder.config(conf=conf).getOrCreate()"
   ]
  },
  {
   "cell_type": "code",
   "execution_count": 3,
   "metadata": {
    "autoscroll": false,
    "collapsed": false,
    "ein.hycell": false,
    "ein.tags": "worksheet-0",
    "slideshow": {
     "slide_type": "-"
    }
   },
   "outputs": [
    {
     "name": "stdout",
     "output_type": "stream",
     "text": [
      "-rw-rw-r-- 1 jonathan jonathan 72M Aug 31 17:16 data/boardgame-users.csv\r\n"
     ]
    },
    {
     "name": "stdout",
     "output_type": "stream",
     "text": [
      "-rw-rw-r-- 1 jonathan jonathan 192M Aug 12 11:32 data/boardgame-comments-english.csv\r\n"
     ]
    },
    {
     "name": "stdout",
     "output_type": "stream",
     "text": [
      "5148626 data/boardgame-users.csv\r\n"
     ]
    },
    {
     "name": "stdout",
     "output_type": "stream",
     "text": [
      "841646 data/boardgame-comments-english.csv\r\n"
     ]
    }
   ],
   "source": [
    "#Check file size\n",
    "!ls -lh data/boardgame-users.csv\n",
    "!ls -lh data/boardgame-comments-english.csv\n",
    "\n",
    "#Number of lines\n",
    "!wc -l data/boardgame-users.csv\n",
    "!wc -l data/boardgame-comments-english.csv"
   ]
  },
  {
   "cell_type": "code",
   "execution_count": 4,
   "metadata": {
    "autoscroll": false,
    "collapsed": false,
    "ein.hycell": false,
    "ein.tags": "worksheet-0",
    "slideshow": {
     "slide_type": "-"
    }
   },
   "outputs": [],
   "source": [
    "#read in the data.  (13MB or so)\n",
    "#(N.B. I put Matt's header on it's own line, which is skipped, and added the UserID)\n",
    "#initial playing data\n",
    "df_rating=spark.read.csv(\"data/boardgame-users.csv\",header=True,schema=\"userID INT, gameID INT, rating FLOAT\")\n",
    "df_text=spark.read.csv(\"data/boardgame-comments-english.csv\",header=True,schema=\"userID INT, gameID INT, rating FLOAT, comment STRING\")"
   ]
  },
  {
   "cell_type": "code",
   "execution_count": 5,
   "metadata": {
    "autoscroll": false,
    "collapsed": false,
    "ein.hycell": false,
    "ein.tags": "worksheet-0",
    "slideshow": {
     "slide_type": "-"
    }
   },
   "outputs": [
    {
     "data": {
      "text/plain": [
       "[Row(userID=172640, gameID=24068, rating=7.0, comment='Good:  Unique take on the hidden role games. The good and evil team win if they eliminate each other where the neutral team has unique objectives depending on what was dealt.   Bad:  Component quality is on the lower end. The artwork is lackluster, the card stock is flimsy, board design is uninspired.   Playing this is entertaining but its tough getting folks interested when newer games have a much better graphical presentation. '),\n",
       " Row(userID=86674, gameID=24068, rating=7.0, comment='A neat social deduction game with multiple teams and winning conditions happening at the same time.'),\n",
       " Row(userID=10643, gameID=24068, rating=7.0, comment=\"Good hidden roles werewolf style game that can accommodate a lot of players nicely. This game is fun if you play with the right people, who play their role and don't just attack randomly. \"),\n",
       " Row(userID=31171, gameID=24068, rating=7.0, comment=\"Overall I hate Mafia/Werewolf, but this version is light, fun and fast. There was enough structure that I didn't feel at a loss.  The only annoying point was the character card that encourages lying. I hate lying in a game because it always causes problems. If you have to assume that anyone could be lying, what's the point of trying to gather information?\"),\n",
       " Row(userID=165608, gameID=24068, rating=7.0, comment=\"Fun social deduction exercise that gets merrier the more players participate. The game significantly benefits from each added player. Experienced players are going to have an edge through knowing the characters and hermit deck and that's a bit problematic. The first time players especially suffer from not being able to read the behaviour of the neutral players.\")]"
      ]
     },
     "execution_count": 5,
     "metadata": {},
     "output_type": "execute_result"
    }
   ],
   "source": [
    "#check data formatting via head\n",
    "df_text.head(n=5)"
   ]
  },
  {
   "cell_type": "code",
   "execution_count": 5,
   "metadata": {
    "autoscroll": false,
    "collapsed": false,
    "ein.hycell": false,
    "ein.tags": "worksheet-0",
    "slideshow": {
     "slide_type": "-"
    }
   },
   "outputs": [],
   "source": [
    "#Matt made a csv file of ids and names  Load into dataframe, put into dict.\n",
    "#Currently still in Pandas formatting.\n",
    "detail_df=pd.read_csv('data/boardgame-details.csv',index_col=0)\n",
    "name_dict=detail_df['title'].to_dict()"
   ]
  },
  {
   "cell_type": "code",
   "execution_count": 9,
   "metadata": {
    "autoscroll": false,
    "collapsed": false,
    "ein.hycell": false,
    "ein.tags": "worksheet-0",
    "slideshow": {
     "slide_type": "-"
    }
   },
   "outputs": [
    {
     "data": {
      "text/plain": [
       "Index(['title', 'yearpublished', 'playingtime', 'minplaytime', 'maxplaytime',\n",
       "       'minage', 'minplayers', 'maxplayers', 'categories', 'mechanics',\n",
       "       'families', 'designers', 'artists', 'publishers',\n",
       "       'numplayervotes (1B 1R 1N 2B 2R 2N ...)',\n",
       "       'agevotes (2 3 4 5 6 8 10 12 14 16 18 21+)',\n",
       "       'textuse (no some mod ext max)'],\n",
       "      dtype='object')"
      ]
     },
     "execution_count": 9,
     "metadata": {},
     "output_type": "execute_result"
    }
   ],
   "source": [
    "detail_df.columns"
   ]
  },
  {
   "cell_type": "code",
   "execution_count": 7,
   "metadata": {
    "autoscroll": false,
    "collapsed": false,
    "ein.hycell": false,
    "ein.tags": "worksheet-0",
    "slideshow": {
     "slide_type": "-"
    }
   },
   "outputs": [],
   "source": [
    "#How many of each category?\n",
    "#detail_df['categories'].apply(str.split)\n",
    "def get_cat_list(series):\n",
    "    cat=[];\n",
    "    for i,r in enumerate(series):\n",
    "        try:\n",
    "            #find all indices per game\n",
    "            rlist=r.split()\n",
    "            cat=cat+rlist\n",
    "        except:\n",
    "            print('Skipping',i)\n",
    "    #cheap way to find unique elements.\n",
    "    #a less stupid way would be to use a collection?\n",
    "    return cat    "
   ]
  },
  {
   "cell_type": "code",
   "execution_count": 8,
   "metadata": {
    "autoscroll": false,
    "collapsed": false,
    "ein.hycell": false,
    "ein.tags": "worksheet-0",
    "slideshow": {
     "slide_type": "-"
    }
   },
   "outputs": [],
   "source": [
    "cat_list=get_cat_list(detail_df['categories'])"
   ]
  },
  {
   "cell_type": "code",
   "execution_count": 9,
   "metadata": {
    "autoscroll": false,
    "collapsed": false,
    "ein.hycell": false,
    "ein.tags": "worksheet-0",
    "slideshow": {
     "slide_type": "-"
    }
   },
   "outputs": [
    {
     "name": "stdout",
     "output_type": "stream",
     "text": [
      "Skipping 115\n"
     ]
    }
   ],
   "source": [
    "def get_counts(series):\n",
    "    \"\"\"get_counts( series)\n",
    "    Takes a pandas series (assumed to contain strings of numbers separated by strings)\n",
    "    and converts that into a count of the number of each type of number.\n",
    "    The numbers are categorical variables for differing variables.\n",
    "    \"\"\"\n",
    "\n",
    "    cat_list=get_cat_list(series)\n",
    "    cat_unique=set(cat_list)\n",
    "    cat_count=pd.Series(np.zeros(len(cat_unique)),index=cat_unique)\n",
    "    for i in cat_list:\n",
    "        cat_count[i]+=1\n",
    "    cat_count.sort_values(ascending=False,inplace=True)    \n",
    "    return cat_count\n",
    "    \n",
    "cat_count=get_counts(detail_df['categories'])\n",
    "mech_count=get_counts(detail_df['mechanics'])"
   ]
  },
  {
   "cell_type": "code",
   "execution_count": 41,
   "metadata": {
    "autoscroll": false,
    "collapsed": false,
    "ein.hycell": false,
    "ein.tags": "worksheet-0",
    "slideshow": {
     "slide_type": "-"
    }
   },
   "outputs": [
    {
     "data": {
      "image/png": "[encoded data removed]",
      "text/plain": [
       "<matplotlib.figure.Figure at 0x7f767c04f710>"
      ]
     },
     "metadata": {},
     "output_type": "display_data"
    }
   ],
   "source": [
    "plt.figure(figsize=(10,3))\n",
    "plt.subplot(121)\n",
    "plt.bar(np.arange(len(cat_count)),cat_count)\n",
    "plt.title('Games Counts by Category')\n",
    "plt.subplot(122)\n",
    "plt.bar(np.arange(len(mech_count)),mech_count)\n",
    "plt.title('Games Counts by Mechanic')\n",
    "plt.show()"
   ]
  },
  {
   "cell_type": "code",
   "execution_count": 178,
   "metadata": {
    "autoscroll": false,
    "collapsed": false,
    "ein.hycell": false,
    "ein.tags": "worksheet-0",
    "slideshow": {
     "slide_type": "-"
    }
   },
   "outputs": [
    {
     "data": {
      "text/plain": [
       "title                                                                                                                                      Jenga\n",
       "yearpublished                                                                                                                               1983\n",
       "playingtime                                                                                                                                   20\n",
       "minplaytime                                                                                                                                   20\n",
       "maxplaytime                                                                                                                                   20\n",
       "minage                                                                                                                                         6\n",
       "minplayers                                                                                                                                     1\n",
       "maxplayers                                                                                                                                     8\n",
       "categories                                                                                                                             1032 1030\n",
       "mechanics                                                                                                                                    NaN\n",
       "families                                                                                                             5607 10407 10566 5642 11505\n",
       "designers                                                                                                                                   1151\n",
       "artists                                                                                                                                        3\n",
       "publishers                                   3320 4922 4680 5314 507 4718 17388 485 3548 588 1731 27832 200 9386 858 51 4742 520 5722 127 327...\n",
       "numplayervotes (1B 1R 1N 2B 2R 2N ...)                                    0 19 38 32 34 2 32 35 1 45 18 2 9 38 12 9 28 22 2 16 40 2 16 41 1 9 45\n",
       "agevotes (2 3 4 5 6 8 10 12 14 16 18 21+)                                                                              0 2 9 17 10 3 0 0 0 0 0 0\n",
       "textuse (no some mod ext max)                                                                                                         40 0 0 0 0\n",
       "Name: 2452, dtype: object"
      ]
     },
     "execution_count": 178,
     "metadata": {},
     "output_type": "execute_result"
    }
   ],
   "source": [
    "detail_df.iloc[115]"
   ]
  },
  {
   "cell_type": "markdown",
   "metadata": {
    "ein.tags": "worksheet-0",
    "slideshow": {
     "slide_type": "-"
    }
   },
   "source": [
    "So the first thing to note is the variation in the number of responses on a games characteristics.\n",
    "Second, these are either effectively histograms, or categorical variables.\n",
    "Those categorical lists might have the most relevant genre information about the game, which could be used to classify games,\n",
    "and then the users (based on what they rate), and would be useful auxiliary information in recommendations.\n",
    "\n",
    "The integer labels are used by the site as identifiers for each person or item in a given category of information, e.g.\n",
    "artists/designers/publishers.\n",
    "\n",
    "Looking over the website it seems that: \n",
    "Category is genre and theme, e.g. medical, wargame, \n",
    "Mechanism involves the type of play, dice/simulation/\n",
    "The Publishers category is for any and all publishers of that game around the world.\n",
    "The textuse, age and numplayers are all user polls.  (It seems a 100:1 ratio in rating/review/poll would probably hold at each stage of engagement?)"
   ]
  },
  {
   "cell_type": "markdown",
   "metadata": {
    "ein.tags": "worksheet-0",
    "slideshow": {
     "slide_type": "-"
    }
   },
   "source": [
    "## Exploratory Analysis\n",
    "\n",
    "I'm going to do a few things:\n",
    "- check for NaN/missing values.\n",
    "- check the scores look right\n",
    "- check the numbers of reviews, and games.\n",
    "- match up the names with the unique gameIDs (I'll find some missing entries here)\n",
    "- plot the number of reviews/user and reviews/game.\n",
    "- check for duplicates"
   ]
  },
  {
   "cell_type": "code",
   "execution_count": 12,
   "metadata": {
    "autoscroll": false,
    "collapsed": false,
    "ein.hycell": false,
    "ein.tags": "worksheet-0",
    "slideshow": {
     "slide_type": "-"
    }
   },
   "outputs": [
    {
     "data": {
      "text/plain": [
       "DataFrame[userID: int, gameID: int, rating: float]"
      ]
     },
     "execution_count": 12,
     "metadata": {},
     "output_type": "execute_result"
    }
   ],
   "source": [
    "df_rating"
   ]
  },
  {
   "cell_type": "code",
   "execution_count": 42,
   "metadata": {
    "autoscroll": false,
    "collapsed": false,
    "ein.hycell": false,
    "ein.tags": "worksheet-0",
    "slideshow": {
     "slide_type": "-"
    }
   },
   "outputs": [],
   "source": [
    "#computes gamewise-means using groupBy.\n",
    "game_mean=df_rating.select('gameID','rating').groupby('gameID').avg()\n",
    "user_mean=df_rating.select('userID','rating').groupby('userID').avg()"
   ]
  },
  {
   "cell_type": "code",
   "execution_count": 43,
   "metadata": {
    "autoscroll": false,
    "collapsed": false,
    "ein.hycell": false,
    "ein.tags": "worksheet-0",
    "slideshow": {
     "slide_type": "-"
    }
   },
   "outputs": [],
   "source": [
    "bins=list(range(1,11))\n",
    "#text for generating a histogram.  Convert to RDD, then use built in histogram\n",
    "#why the flatMap?\n",
    "user_hist=user_mean.select(\"avg(rating)\").rdd.flatMap(lambda x: x).histogram(bins)"
   ]
  },
  {
   "cell_type": "code",
   "execution_count": 44,
   "metadata": {
    "autoscroll": false,
    "collapsed": false,
    "ein.hycell": false,
    "ein.tags": "worksheet-0",
    "slideshow": {
     "slide_type": "-"
    }
   },
   "outputs": [
    {
     "data": {
      "image/png": "[encoded data removed]",
      "text/plain": [
       "<matplotlib.figure.Figure at 0x7f7671fc7898>"
      ]
     },
     "metadata": {},
     "output_type": "display_data"
    }
   ],
   "source": [
    "user_mean_bins,user_mean_val=user_hist\n",
    "plt.bar(user_mean_bins[:-1],user_mean_val,log=True)\n",
    "plt.show()"
   ]
  },
  {
   "cell_type": "code",
   "execution_count": 54,
   "metadata": {
    "autoscroll": false,
    "collapsed": false,
    "ein.hycell": false,
    "ein.tags": "worksheet-0",
    "slideshow": {
     "slide_type": "-"
    }
   },
   "outputs": [],
   "source": [
    "# Group ratings matrix by user and GameIDs to look at those distributions.  Looking at histograms of avg/max/min per user.\n",
    "user_ratings=df_rating.select('userID','rating').groupby('userID')\n",
    "game_ratings=df_rating.select('gameID','rating').groupby('gameID')"
   ]
  },
  {
   "cell_type": "code",
   "execution_count": 55,
   "metadata": {
    "autoscroll": false,
    "collapsed": false,
    "ein.hycell": false,
    "ein.tags": "worksheet-0",
    "slideshow": {
     "slide_type": "-"
    }
   },
   "outputs": [],
   "source": [
    "#Compute histogram within Spark.\n",
    "# Found this magic on stackoverflow.  No idea behind reasoning for flatMap.\n",
    "user_min=user_ratings.min()\n",
    "user_minhist=user_min.select(\"min(rating)\").rdd.flatMap(lambda x: x).histogram(bins)"
   ]
  },
  {
   "cell_type": "code",
   "execution_count": 56,
   "metadata": {
    "autoscroll": false,
    "collapsed": false,
    "ein.hycell": false,
    "ein.tags": "worksheet-0",
    "slideshow": {
     "slide_type": "-"
    }
   },
   "outputs": [],
   "source": [
    "user_max=user_ratings.max()\n",
    "user_maxhist=user_max.select(\"max(rating)\").rdd.flatMap(lambda x: x).histogram(bins)"
   ]
  },
  {
   "cell_type": "code",
   "execution_count": 60,
   "metadata": {
    "autoscroll": false,
    "collapsed": false,
    "ein.hycell": false,
    "ein.tags": "worksheet-0",
    "slideshow": {
     "slide_type": "-"
    }
   },
   "outputs": [],
   "source": [
    "def plot_hist(hist,title_str=None):\n",
    "    \"\"\"plot_hist(hist)\n",
    "    hist is output from Spark RDD HIstogram call.\n",
    "    hist is a tuple (bins, vals).\n",
    "    Plots a bar chart using \n",
    "    Assumes linearly spaced bins.\n",
    "    \"\"\"\n",
    "    bins,val=hist\n",
    "    bins2=[0.5*(bins[k]+bins[k+1]-1) for k in range(len(bins)-1)]\n",
    "    width=bins[1]-bins[0]\n",
    "    #plt.bar(bins[:-1],val,width=width,log=True)\n",
    "    plt.bar(bins2,val,width=width,log=True)    \n",
    "    plt.xticks([2,4,6,8,10])\n",
    "    print(bins2)\n",
    "    if (title_str!=None):\n",
    "        plt.title(title_str)\n",
    "        "
   ]
  },
  {
   "cell_type": "code",
   "execution_count": 61,
   "metadata": {
    "autoscroll": false,
    "collapsed": false,
    "ein.hycell": false,
    "ein.tags": "worksheet-0",
    "slideshow": {
     "slide_type": "-"
    }
   },
   "outputs": [
    {
     "name": "stdout",
     "output_type": "stream",
     "text": [
      "[1.0, 2.0, 3.0, 4.0, 5.0, 6.0, 7.0, 8.0, 9.0]\n",
      "[1.0, 2.0, 3.0, 4.0, 5.0, 6.0, 7.0, 8.0, 9.0]\n"
     ]
    },
    {
     "data": {
      "image/png": "[encoded data removed]",
      "text/plain": [
       "<matplotlib.figure.Figure at 0x7f7663b87748>"
      ]
     },
     "metadata": {},
     "output_type": "display_data"
    }
   ],
   "source": [
    "plt.subplot(121)\n",
    "plot_hist(user_minhist,'Minimum Score by Users')\n",
    "plt.subplot(122)\n",
    "plot_hist(user_maxhist,'Maximum Score by Users')"
   ]
  },
  {
   "cell_type": "code",
   "execution_count": 15,
   "metadata": {
    "autoscroll": false,
    "collapsed": false,
    "ein.hycell": false,
    "ein.tags": "worksheet-0",
    "slideshow": {
     "slide_type": "-"
    }
   },
   "outputs": [],
   "source": [
    "game_count=df_rating.select('gameID').groupby('gameID').count()"
   ]
  },
  {
   "cell_type": "code",
   "execution_count": 16,
   "metadata": {
    "autoscroll": false,
    "collapsed": false,
    "ein.hycell": false,
    "ein.tags": "worksheet-0",
    "slideshow": {
     "slide_type": "-"
    }
   },
   "outputs": [
    {
     "data": {
      "text/plain": [
       "DataFrame[gameID: int, count: bigint]"
      ]
     },
     "execution_count": 16,
     "metadata": {},
     "output_type": "execute_result"
    }
   ],
   "source": [
    "#get number of games\n",
    "game_count.persist()"
   ]
  },
  {
   "cell_type": "code",
   "execution_count": 108,
   "metadata": {
    "autoscroll": false,
    "collapsed": false,
    "ein.hycell": false,
    "ein.tags": "worksheet-0",
    "slideshow": {
     "slide_type": "-"
    }
   },
   "outputs": [
    {
     "name": "stdout",
     "output_type": "stream",
     "text": [
      "+------+-----+\n",
      "|gameID|count|\n",
      "+------+-----+\n",
      "|    13|71236|\n",
      "|   822|70820|\n",
      "| 30549|66954|\n",
      "| 36218|58567|\n",
      "| 68448|55466|\n",
      "|  9209|50919|\n",
      "| 31260|50075|\n",
      "|  3076|49560|\n",
      "| 40692|45525|\n",
      "|  2651|43673|\n",
      "| 70323|39256|\n",
      "|   478|39009|\n",
      "|129622|38237|\n",
      "| 14996|38021|\n",
      "| 28143|35648|\n",
      "|178900|34765|\n",
      "|148228|33374|\n",
      "| 39856|33327|\n",
      "| 34635|32066|\n",
      "|110327|31245|\n",
      "+------+-----+\n",
      "only showing top 20 rows\n",
      "\n"
     ]
    }
   ],
   "source": [
    "game_count.sort('count',ascending=False).show()"
   ]
  },
  {
   "cell_type": "code",
   "execution_count": 18,
   "metadata": {
    "autoscroll": false,
    "collapsed": false,
    "ein.hycell": false,
    "ein.tags": "worksheet-0",
    "slideshow": {
     "slide_type": "-"
    }
   },
   "outputs": [],
   "source": [
    "reviews_per_game_hist=game_count.select('count').rdd.flatMap(lambda x: x).histogram(buckets=20)"
   ]
  },
  {
   "cell_type": "code",
   "execution_count": 19,
   "metadata": {
    "autoscroll": false,
    "collapsed": false,
    "ein.hycell": false,
    "ein.tags": "worksheet-0",
    "slideshow": {
     "slide_type": "-"
    }
   },
   "outputs": [
    {
     "data": {
      "image/png": "[encoded data removed]",
      "text/plain": [
       "<matplotlib.figure.Figure at 0x7efbba490828>"
      ]
     },
     "metadata": {},
     "output_type": "display_data"
    }
   ],
   "source": [
    "plot_hist(reviews_per_game_hist)"
   ]
  },
  {
   "cell_type": "markdown",
   "metadata": {
    "ein.tags": "worksheet-0",
    "slideshow": {
     "slide_type": "-"
    }
   },
   "source": [
    "This is the number of games with a given number of reviews.\n",
    "Seems to have at a minimum around 3000 reviews, and going up to just shy of 70k reviews for the most popular games. "
   ]
  },
  {
   "cell_type": "code",
   "execution_count": 29,
   "metadata": {
    "autoscroll": false,
    "collapsed": false,
    "ein.hycell": false,
    "ein.tags": "worksheet-0",
    "slideshow": {
     "slide_type": "-"
    }
   },
   "outputs": [
    {
     "name": "stdout",
     "output_type": "stream",
     "text": [
      "+-------+------------------+-----------------+\n",
      "|summary|            gameID|            count|\n",
      "+-------+------------------+-----------------+\n",
      "|  count|               402|              402|\n",
      "|   mean| 63385.90547263682|12807.52487562189|\n",
      "| stddev|62511.703351741875|9733.035753206457|\n",
      "|    min|                 3|             3225|\n",
      "|    max|            209010|            71236|\n",
      "+-------+------------------+-----------------+\n",
      "\n"
     ]
    }
   ],
   "source": [
    "game_count.describe().show()"
   ]
  },
  {
   "cell_type": "code",
   "execution_count": 45,
   "metadata": {
    "autoscroll": false,
    "collapsed": false,
    "ein.hycell": false,
    "ein.tags": "worksheet-0",
    "slideshow": {
     "slide_type": "-"
    }
   },
   "outputs": [],
   "source": [
    "#create view to allow SQL like calling of data. \n",
    "df_text.createOrReplaceTempView(\"df_Tview\")"
   ]
  },
  {
   "cell_type": "code",
   "execution_count": 46,
   "metadata": {
    "autoscroll": false,
    "collapsed": false,
    "ein.hycell": false,
    "ein.tags": "worksheet-0",
    "slideshow": {
     "slide_type": "-"
    }
   },
   "outputs": [],
   "source": [
    "#quick test: lower-case and split at spaces\n",
    "res=spark.sql(\"SELECT split(lower(comment),' ') as sc FROM df_Tview LIMIT 100\")"
   ]
  },
  {
   "cell_type": "code",
   "execution_count": 47,
   "metadata": {
    "autoscroll": false,
    "collapsed": false,
    "ein.hycell": false,
    "ein.tags": "worksheet-0",
    "slideshow": {
     "slide_type": "-"
    }
   },
   "outputs": [],
   "source": [
    "#make a small dataframe to test/play with in Python.\n",
    "df_s=spark.sql(\"SELECT * FROM df_Tview LIMIT 100\").toPandas()"
   ]
  },
  {
   "cell_type": "markdown",
   "metadata": {
    "ein.tags": "worksheet-0",
    "slideshow": {
     "slide_type": "-"
    }
   },
   "source": [
    "# NLTK text-cleaning Pipeline\n",
    "\n",
    "Let's try doing some pre-processing here.\n",
    "We'll be using Spark's MLib for these applications, rather than trying to roll our own.\n",
    "Spark MLib has Linear Regression, Count-Vectorizers, TF-IDF, Naive Bayes, clustering, and an ALS algorithm for non-negative matrix factorization.\n",
    "\n",
    "- Strip punctuation.\n",
    "- lower case\n",
    "- count words"
   ]
  },
  {
   "cell_type": "code",
   "execution_count": 11,
   "metadata": {
    "autoscroll": false,
    "collapsed": false,
    "ein.hycell": false,
    "ein.tags": "worksheet-0",
    "slideshow": {
     "slide_type": "-"
    }
   },
   "outputs": [],
   "source": [
    "import nltk\n",
    "from nltk.corpus import stopwords\n",
    "from string import punctuation"
   ]
  },
  {
   "cell_type": "code",
   "execution_count": 58,
   "metadata": {
    "autoscroll": false,
    "collapsed": false,
    "ein.hycell": false,
    "ein.tags": "worksheet-0",
    "slideshow": {
     "slide_type": "-"
    }
   },
   "outputs": [],
   "source": [
    "string=\"Yeah, y'all say the game sucks. But I LOVE it.\"\n",
    "#lower case\n",
    "\n",
    "def tokenize(string):\n",
    "    return nltk.word_tokenize(string.lower())    \n",
    "#split at spaces.\n",
    "\n",
    "#remove stop-words\n",
    "def make_removal_list():\n",
    "    stop_words=set(stopwords.words('english'))\n",
    "    punc_list=[letter for letter in punctuation]\n",
    "    return stop_words.union(punc_list)\n",
    "\n",
    "def clean_words(string,removal_list):\n",
    "    word_list=tokenize(string)\n",
    "    return [word for word in word_list if word not in removal_list]\n",
    "\n",
    "removal_list=make_removal_list()\n",
    "clean_word_list=clean_words(string,removal_list)"
   ]
  },
  {
   "cell_type": "code",
   "execution_count": 79,
   "metadata": {
    "autoscroll": false,
    "collapsed": false,
    "ein.hycell": false,
    "ein.tags": "worksheet-0",
    "slideshow": {
     "slide_type": "-"
    }
   },
   "outputs": [
    {
     "data": {
      "text/plain": [
       "['yeah', \"y'all\", 'say', 'game', 'sucks', 'love']"
      ]
     },
     "execution_count": 79,
     "metadata": {},
     "output_type": "execute_result"
    }
   ],
   "source": [
    "clean_word_list"
   ]
  },
  {
   "cell_type": "markdown",
   "metadata": {
    "ein.tags": "worksheet-0",
    "slideshow": {
     "slide_type": "-"
    }
   },
   "source": [
    "So here we can see how much is lost by stripping out stopwords.\n",
    "The actually expressed opinion is completely lost, that \"but\" was important.\n",
    "That approach probably works great for document retrieval, but perhaps loses too much in this context.\n",
    "We'll also be treating the whole comment as one big bag of words, which loses even more nuance.\n",
    "\n",
    "Why do such violence? Well, it's easy and seemingly standard.\n",
    "This is also an attempt to use spark, rather than a serious NLP project, so we'll just roll with it.\n"
   ]
  },
  {
   "cell_type": "code",
   "execution_count": 103,
   "metadata": {
    "autoscroll": false,
    "collapsed": false,
    "ein.hycell": false,
    "ein.tags": "worksheet-0",
    "slideshow": {
     "slide_type": "-"
    }
   },
   "outputs": [],
   "source": [
    "from pyspark.sql.types import ArrayType, StringType, IntegerType\n",
    "from pyspark.sql.functions import udf\n"
   ]
  },
  {
   "cell_type": "code",
   "execution_count": 59,
   "metadata": {
    "autoscroll": false,
    "collapsed": false,
    "ein.hycell": false,
    "ein.tags": "worksheet-0",
    "slideshow": {
     "slide_type": "-"
    }
   },
   "outputs": [],
   "source": [
    "clean_words_udf = udf( lambda x: clean_words(x,removal_list), returnType=ArrayType(StringType()))"
   ]
  },
  {
   "cell_type": "code",
   "execution_count": 108,
   "metadata": {
    "autoscroll": false,
    "collapsed": false,
    "ein.hycell": false,
    "ein.tags": "worksheet-0",
    "slideshow": {
     "slide_type": "-"
    }
   },
   "outputs": [
    {
     "data": {
      "text/plain": [
       "['bleah', 'moo', 'game']"
      ]
     },
     "execution_count": 108,
     "metadata": {},
     "output_type": "execute_result"
    }
   ],
   "source": [
    "clean_words('bleah the moo the why game',removal_list)"
   ]
  },
  {
   "cell_type": "code",
   "execution_count": 61,
   "metadata": {
    "autoscroll": false,
    "collapsed": false,
    "ein.hycell": false,
    "ein.tags": "worksheet-0",
    "slideshow": {
     "slide_type": "-"
    }
   },
   "outputs": [
    {
     "name": "stdout",
     "output_type": "stream",
     "text": [
      "+--------------------+--------------------+\n",
      "|             comment|   <lambda>(comment)|\n",
      "+--------------------+--------------------+\n",
      "|Good:  Unique tak...|[good, unique, ta...|\n",
      "|A neat social ded...|[neat, social, de...|\n",
      "|Good hidden roles...|[good, hidden, ro...|\n",
      "|Overall I hate Ma...|[overall, hate, m...|\n",
      "|Fun social deduct...|[fun, social, ded...|\n",
      "+--------------------+--------------------+\n",
      "only showing top 5 rows\n",
      "\n"
     ]
    }
   ],
   "source": [
    "df_text.select('comment',clean_words_udf('comment')).show(n=5)"
   ]
  },
  {
   "cell_type": "code",
   "execution_count": 109,
   "metadata": {
    "autoscroll": false,
    "collapsed": false,
    "ein.hycell": false,
    "ein.tags": "worksheet-0",
    "slideshow": {
     "slide_type": "-"
    }
   },
   "outputs": [],
   "source": [
    "#make a new rounded score column. (corresponds to half-integer binning.  True score = rating2/2\n",
    "#Include max so minimum score is 0.5\n",
    "round_udf=udf(lambda x: max(int(2*x),1), IntegerType())\n",
    "df_text=df_text.withColumn('rating2',round_udf('rating'))"
   ]
  },
  {
   "cell_type": "code",
   "execution_count": 114,
   "metadata": {
    "autoscroll": false,
    "collapsed": false,
    "ein.hycell": false,
    "ein.tags": "worksheet-0",
    "slideshow": {
     "slide_type": "-"
    }
   },
   "outputs": [],
   "source": [
    "#Split data into training/test\n",
    "from pyspark.ml.tuning import ParamGridBuilder, TrainValidationSplit, CrossValidator\n",
    "\n",
    "#Split all data \n",
    "df_text_train, df_text_test= df_text.randomSplit([0.9,0.1],seed=56565)"
   ]
  },
  {
   "cell_type": "markdown",
   "metadata": {
    "ein.tags": "worksheet-0",
    "slideshow": {
     "slide_type": "-"
    }
   },
   "source": [
    "So one of the problems is how do you handle new instances?\n",
    "Here we'll take the point of view that the testing data is completely unknown.\n",
    "Thus it's not included in any of the data pipeline.  If we run into rare or unknown words, then so be it.\n",
    "It's a more honest test of the algorithm.  We'll assume that the training data is a large"
   ]
  },
  {
   "cell_type": "code",
   "execution_count": 90,
   "metadata": {
    "autoscroll": false,
    "collapsed": false,
    "ein.hycell": false,
    "ein.tags": "worksheet-0",
    "slideshow": {
     "slide_type": "-"
    }
   },
   "outputs": [],
   "source": [
    "from pyspark.ml.feature import Tokenizer, CountVectorizer, StopWordsRemover, NGram\n",
    "from pyspark.ml.classification import NaiveBayes\n",
    "from pyspark.ml.evaluation import MulticlassClassificationEvaluator as MCE\n",
    "from pyspark.ml import Pipeline"
   ]
  },
  {
   "cell_type": "code",
   "execution_count": 112,
   "metadata": {
    "autoscroll": false,
    "collapsed": false,
    "ein.hycell": false,
    "ein.tags": "worksheet-0",
    "slideshow": {
     "slide_type": "-"
    }
   },
   "outputs": [],
   "source": [
    "tokenizer = Tokenizer(inputCol='comment', outputCol='words')\n",
    "remover = StopWordsRemover(inputCol='words', outputCol='filtered_words')\n",
    "#ngram = NGram(n=2,inputCol='filtered_words', outputCol='filtered_2grams')\n",
    "cv = CountVectorizer(inputCol='filtered_words', outputCol='features', minDF=20)\n",
    "nb = NaiveBayes(featuresCol='features',labelCol='rating2',predictionCol='prediction',smoothing=0.1)\n",
    "pipeline=Pipeline(stages=[tokenizer,remover,cv,nb])"
   ]
  },
  {
   "cell_type": "code",
   "execution_count": 127,
   "metadata": {
    "autoscroll": false,
    "collapsed": false,
    "ein.hycell": false,
    "ein.tags": "worksheet-0",
    "slideshow": {
     "slide_type": "-"
    }
   },
   "outputs": [],
   "source": [
    "#Grab training subset of data\n",
    "df_sub=df_text_train.limit(10000)"
   ]
  },
  {
   "cell_type": "code",
   "execution_count": 128,
   "metadata": {
    "autoscroll": false,
    "collapsed": false,
    "ein.hycell": false,
    "ein.tags": "worksheet-0",
    "slideshow": {
     "slide_type": "-"
    }
   },
   "outputs": [],
   "source": [
    "#Fits/trains the Pipeline to the data\n",
    "trainedPipeline=pipeline.fit(df_sub)"
   ]
  },
  {
   "cell_type": "code",
   "execution_count": 130,
   "metadata": {
    "autoscroll": false,
    "collapsed": false,
    "ein.hycell": false,
    "ein.tags": "worksheet-0",
    "slideshow": {
     "slide_type": "-"
    }
   },
   "outputs": [],
   "source": [
    "#Now actually transform the data\n",
    "df_nb=trainedPipeline.transform(df_sub)"
   ]
  },
  {
   "cell_type": "code",
   "execution_count": 138,
   "metadata": {
    "autoscroll": false,
    "collapsed": false,
    "ein.hycell": false,
    "ein.tags": "worksheet-0",
    "slideshow": {
     "slide_type": "-"
    }
   },
   "outputs": [
    {
     "name": "stdout",
     "output_type": "stream",
     "text": [
      "+------+------+-------+----------+\n",
      "|userID|gameID|rating2|prediction|\n",
      "+------+------+-------+----------+\n",
      "|     1| 15062|     16|      14.0|\n",
      "|     1| 40692|     12|      14.0|\n",
      "|     1|150376|     14|      14.0|\n",
      "|    12|   173|     15|      10.0|\n",
      "|    12| 53953|     13|      12.0|\n",
      "|    15|  2987|     15|      14.0|\n",
      "|    15|  3955|     16|      14.0|\n",
      "|    15| 13004|     18|      16.0|\n",
      "|    15| 21523|     16|      11.0|\n",
      "|    15| 30549|     16|      14.0|\n",
      "+------+------+-------+----------+\n",
      "only showing top 10 rows\n",
      "\n"
     ]
    }
   ],
   "source": [
    "#Look at the ratings\n",
    "df_nb.select(['userID', 'gameID','rating2','prediction']).show(n=10)"
   ]
  },
  {
   "cell_type": "code",
   "execution_count": 106,
   "metadata": {
    "autoscroll": false,
    "collapsed": false,
    "ein.hycell": false,
    "ein.tags": "worksheet-0",
    "slideshow": {
     "slide_type": "-"
    }
   },
   "outputs": [],
   "source": [
    "#add rounded off-class column. \n"
   ]
  },
  {
   "cell_type": "markdown",
   "metadata": {
    "ein.tags": "worksheet-0",
    "slideshow": {
     "slide_type": "-"
    }
   },
   "source": [
    "# Collaborative Filtering\n",
    "\n",
    "- make new variables for scaled, mean-subtracted values.\n",
    "\n",
    "Setup ALS algorithm.\n",
    "\n",
    "Create pipeline for text data.  Use NLTK and map for stop words, stemming, lemmatizing.\n",
    "- setup Naive Bayes.\n",
    "- explore lift on 2-grams.\n",
    "- setup linear regression.\n",
    "- setup linearSVM with frequency sampling.\n",
    "- create alternative metric for use with gradient descent?\n",
    " weighted least-squares? \n",
    "\n",
    "- \n"
   ]
  }
 ],
 "metadata": {
  "kernelspec": {
   "display_name": "Python 3",
   "name": "python3"
  },
  "language_info": {
   "codemirror_mode": {
    "name": "ipython",
    "version": 3
   },
   "file_extension": ".py",
   "mimetype": "text/x-python",
   "name": "python",
   "nbconvert_exporter": "python",
   "pygments_lexer": "ipython3",
   "version": "3.6.3"
  },
  "name": "recommend_spark.ipynb"
 },
 "nbformat": 4,
 "nbformat_minor": 2
}

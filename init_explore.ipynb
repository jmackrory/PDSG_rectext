{
 "cells": [
  {
   "cell_type": "markdown",
   "metadata": {
    "ein.tags": "worksheet-0",
    "slideshow": {
     "slide_type": "-"
    }
   },
   "source": [
    "# Recommendation Engine for Board Game Text Data\n",
    "\n",
    "This project builds off of the Recommendation Project, and the Natural Language Processing on Wikipedia comments.\n",
    "\n",
    "This is using data from boardgamegeek.com, gathered by Matt Borthwick.  The real goal here is to finish an analysis.\n",
    "This is labelled data for game, so it's a natural fit for employing the same methods as toxicity, and run with that analysis."
   ]
  },
  {
   "cell_type": "markdown",
   "metadata": {
    "ein.tags": "worksheet-0",
    "slideshow": {
     "slide_type": "-"
    }
   },
   "source": [
    "## Outline/Planning\n",
    "\n",
    "What is my ultimate goal here? \n",
    "- Build a recommendation engine based on reviews/scores.\n",
    "- Give score to unrated comments.\n",
    "\n",
    "My rough plan is to build up a lexicon, tokenize that data, and try to build a Naive Bayes model.  (Maybe later a Recurrent Neural network model?)\n",
    "\n",
    "Cleaning:\n",
    "* Tokenize (convert words to indices) \n",
    "* Stemming words\n",
    "* Balancing data set\n",
    "\n",
    "Embeddings:\n",
    "These are necessary to reduce the dimensionality of the problem to a scale that will fit in memory.  \n",
    "   * SVD - use SVD on the term-frequency matrix. Will use truncated SVD.  \n",
    "   * word2vec - train vectors for words based on surrounding contexts (can use pre-trained ones, like GLoVE)\n",
    "   * Keep only most common words (in both toxic/non-toxic), or highest probability of toxic/non-toxic\n",
    "\n",
    "Other Analysis possibilities:\n",
    "* Naive Bayes\n",
    "    - can find most important words\n",
    "    - simple, easy to understand baseline.\n",
    "* Support Vector Machine\n",
    "    - try ensemble method (split the data into batches, and train an SVM on each batch.  Then do a committee vote.)\n",
    "      This turns O(n_sample^3) scaling into O(n_sample^3/n_batch^2) scaling on the training.\n",
    "      This is effectively treating the kernel matrix as if it were block-diagonal, as it omits correlations between datasets.\n",
    "      Perhaps running multiple copies with different random splits would work?\n",
    "* Deep Neural Network\n",
    "    - Build a network using the term-frequency matrix as inputs.\n",
    "    - Extends the naive Bayes method.  (Might be automatic way of doing some of that SVM stuff?)\n",
    "    - Employ dropout for regularization, alongside L2 penalties.  \n",
    "     \n",
    "* Recurrent Neural Network\n",
    "    - Build up word embeddings (word2vec), or just use the pretrained ones.\n",
    "    - This one runs at the sentence/paragraph level and keeps the temporal structure.\n",
    "    - Use LSTM/GRU cells, with a couple layers. \n",
    "    - Also dropout, l2 penalties\n",
    "\n",
    "Metrics:\n",
    "    - F1 :harmonic mean of precision and recall\n",
    "    - log-loss $N^{-1}\\sum_{j=1}^N\\sum_c y_{jc}\\log \\hat{y}_{jc}$, where $j$ runs over observations, and $c$ runs over classes.\n"
   ]
  },
  {
   "cell_type": "markdown",
   "metadata": {
    "ein.tags": "worksheet-0",
    "slideshow": {
     "slide_type": "-"
    }
   },
   "source": [
    "# Loading in the data"
   ]
  },
  {
   "cell_type": "code",
   "execution_count": 1,
   "metadata": {
    "autoscroll": false,
    "collapsed": false,
    "ein.tags": "worksheet-0",
    "slideshow": {
     "slide_type": "-"
    }
   },
   "outputs": [],
   "source": [
    "import pandas as pd\n",
    "import numpy as np\n",
    "import matplotlib.pyplot as plt\n",
    "import scipy.sparse as sparse\n",
    "\n",
    "from sklearn.feature_extraction.text import CountVectorizer, TfidfVectorizer\n",
    "from sklearn.metrics import log_loss,f1_score,roc_auc_score\n",
    "\n",
    "from IPython.display import clear_output\n",
    "import time\n",
    "\n",
    "#my code\n",
    "from bayes import cond_prob, naive_bayes\n",
    "from util import clean_up, get_subset, check_predictions\n",
    "%load_ext autoreload\n",
    "%autoreload 2"
   ]
  },
  {
   "cell_type": "code",
   "execution_count": 51,
   "metadata": {
    "autoscroll": false,
    "collapsed": false,
    "ein.tags": "worksheet-0",
    "slideshow": {
     "slide_type": "-"
    }
   },
   "outputs": [],
   "source": [
    "df = pd.read_csv('data/boardgame-comments-english.csv')\n",
    "\n",
    "df_real_test=pd.read_csv('data/boardgame-comments-english-test.csv')"
   ]
  },
  {
   "cell_type": "code",
   "execution_count": 54,
   "metadata": {
    "autoscroll": false,
    "collapsed": false,
    "ein.tags": "worksheet-0",
    "slideshow": {
     "slide_type": "-"
    }
   },
   "outputs": [
    {
     "data": {
      "text/plain": [
       "   Compiled from boardgamegeek.com by Matt Borthwick  gameID  \\\n0                                             140134  205637   \n1                                             184733    2163   \n2                                              17204   15158   \n3                                              79036   35677   \n4                                             188085  155426   \n\n                                                                                              comment   \n0  This game is the first game that totally left me satisfied after I played it.  This one hit the ...  \n1  I got into this game just as the first edition went out of print. So I was only able to buy the ...  \n2  This expansion has some edges but I like it because it forces you to change tactics when the dra...  \n3  Why bother with Le Havre if you can play Agricola? Sorry, I have to say it. The theme in Agricol...  \n4  Fun enough to discover and tinker around with. But approaching it as a game means grinding throu...  "
      ]
     },
     "execution_count": 54,
     "metadata": {},
     "output_type": "execute_result"
    }
   ],
   "source": [
    "df_real_test.head()"
   ]
  },
  {
   "cell_type": "code",
   "execution_count": 55,
   "metadata": {
    "autoscroll": false,
    "collapsed": false,
    "ein.tags": "worksheet-0",
    "slideshow": {
     "slide_type": "-"
    }
   },
   "outputs": [],
   "source": [
    "df.columns=['userID','gameID','rating','comment']\n",
    "df_real_test.columns=['userID','gameID','comment']"
   ]
  },
  {
   "cell_type": "code",
   "execution_count": 20,
   "metadata": {
    "autoscroll": false,
    "collapsed": false,
    "ein.tags": "worksheet-0",
    "slideshow": {
     "slide_type": "-"
    }
   },
   "outputs": [
    {
     "data": {
      "text/plain": [
       "   userID  gameID  rating  \\\n",
       "0  172640   24068     7.0   \n",
       "1   86674   24068     7.0   \n",
       "2   10643   24068     7.0   \n",
       "3   31171   24068     7.0   \n",
       "4  165608   24068     7.0   \n",
       "\n",
       "                                                                                               comment  \n",
       "0  Good:  Unique take on the hidden role games. The good and evil team win if they eliminate each o...  \n",
       "1  A neat social deduction game with multiple teams and winning conditions happening at the same time.  \n",
       "2  Good hidden roles werewolf style game that can accommodate a lot of players nicely. This game is...  \n",
       "3  Overall I hate Mafia/Werewolf, but this version is light, fun and fast. There was enough structu...  \n",
       "4  Fun social deduction exercise that gets merrier the more players participate. The game significa...  "
      ]
     },
     "execution_count": 20,
     "metadata": {},
     "output_type": "execute_result"
    }
   ],
   "source": [
    "df.head()"
   ]
  },
  {
   "cell_type": "code",
   "execution_count": 4,
   "metadata": {
    "autoscroll": false,
    "collapsed": false,
    "ein.tags": "worksheet-0",
    "slideshow": {
     "slide_type": "-"
    }
   },
   "outputs": [
    {
     "data": {
      "text/plain": [
       "<matplotlib.figure.Figure at 0x7efbabbaa828>"
      ]
     },
     "metadata": {},
     "output_type": "display_data"
    }
   ],
   "source": [
    "#When are the comments made?\n",
    "plt.figure()\n",
    "df['rating'].hist(log=True,bins=101)\n",
    "plt.title('Rating Histogram')\n",
    "plt.show()"
   ]
  },
  {
   "cell_type": "markdown",
   "metadata": {
    "ein.tags": "worksheet-0",
    "slideshow": {
     "slide_type": "-"
    }
   },
   "source": [
    "So let's do more exploration.  "
   ]
  },
  {
   "cell_type": "code",
   "execution_count": 5,
   "metadata": {
    "autoscroll": false,
    "collapsed": false,
    "ein.tags": "worksheet-0",
    "slideshow": {
     "slide_type": "-"
    }
   },
   "outputs": [
    {
     "data": {
      "text/plain": [
       "(59789,)"
      ]
     },
     "execution_count": 5,
     "metadata": {},
     "output_type": "execute_result"
    }
   ],
   "source": [
    "#Number of unique Users\n",
    "df['userID'].unique().shape"
   ]
  },
  {
   "cell_type": "code",
   "execution_count": 6,
   "metadata": {
    "autoscroll": false,
    "collapsed": false,
    "ein.tags": "worksheet-0",
    "slideshow": {
     "slide_type": "-"
    }
   },
   "outputs": [
    {
     "data": {
      "text/plain": [
       "(402,)"
      ]
     },
     "execution_count": 6,
     "metadata": {},
     "output_type": "execute_result"
    }
   ],
   "source": [
    "df['gameID'].unique().shape"
   ]
  },
  {
   "cell_type": "code",
   "execution_count": 5,
   "metadata": {
    "autoscroll": false,
    "collapsed": false,
    "ein.tags": "worksheet-0",
    "slideshow": {
     "slide_type": "-"
    }
   },
   "outputs": [],
   "source": [
    "userreview_counts=df.groupby('userID').apply(len)"
   ]
  },
  {
   "cell_type": "code",
   "execution_count": 6,
   "metadata": {
    "autoscroll": false,
    "collapsed": false,
    "ein.tags": "worksheet-0",
    "slideshow": {
     "slide_type": "-"
    }
   },
   "outputs": [
    {
     "data": {
      "text/plain": [
       "<matplotlib.figure.Figure at 0x7efbbca4d048>"
      ]
     },
     "metadata": {},
     "output_type": "display_data"
    }
   ],
   "source": [
    "# How many reviews are there per user?\n",
    "userreview_counts.hist(log=True,bins=50)\n",
    "plt.show()"
   ]
  },
  {
   "cell_type": "markdown",
   "metadata": {
    "ein.tags": "worksheet-0",
    "slideshow": {
     "slide_type": "-"
    }
   },
   "source": [
    "So, there are a lot of users with few reviews (again).\n",
    "\n",
    "This will come up in building a test/train split.  It depends on the task.  Are we trying to build a tool to recommend games? "
   ]
  },
  {
   "cell_type": "code",
   "execution_count": 9,
   "metadata": {
    "autoscroll": false,
    "collapsed": false,
    "ein.tags": "worksheet-0",
    "slideshow": {
     "slide_type": "-"
    }
   },
   "outputs": [],
   "source": [
    "#check counts of game reviews\n",
    "game_groups=df.groupby('gameID')"
   ]
  },
  {
   "cell_type": "code",
   "execution_count": 10,
   "metadata": {
    "autoscroll": false,
    "collapsed": false,
    "ein.tags": "worksheet-0",
    "slideshow": {
     "slide_type": "-"
    }
   },
   "outputs": [],
   "source": [
    "gamereview_counts=game_groups.apply(len)\n",
    "gamereview_mean=game_groups['rating'].apply(np.mean)\n",
    "gamereview_median=game_groups['rating'].apply(np.median)\n",
    "gamereview_05=game_groups['rating'].apply(lambda x: np.percentile(x,5))\n",
    "gamereview_95=game_groups['rating'].apply(lambda x: np.percentile(x,95))\n"
   ]
  },
  {
   "cell_type": "code",
   "execution_count": 11,
   "metadata": {
    "autoscroll": false,
    "collapsed": false,
    "ein.tags": "worksheet-0",
    "slideshow": {
     "slide_type": "-"
    }
   },
   "outputs": [
    {
     "data": {
      "text/plain": [
       "<matplotlib.figure.Figure at 0x7efbbc4e84a8>"
      ]
     },
     "metadata": {},
     "output_type": "display_data"
    }
   ],
   "source": [
    "# How many reviews are there per game?\n",
    "plt.hist(np.log10(gamereview_counts+1),bins=50)\n",
    "plt.xlabel('Log10 number of reviews per game')\n",
    "plt.show()\n"
   ]
  },
  {
   "cell_type": "code",
   "execution_count": 12,
   "metadata": {
    "autoscroll": false,
    "collapsed": false,
    "ein.tags": "worksheet-0",
    "slideshow": {
     "slide_type": "-"
    }
   },
   "outputs": [
    {
     "data": {
      "text/plain": [
       "<matplotlib.figure.Figure at 0x7efbbb46e9b0>"
      ]
     },
     "metadata": {},
     "output_type": "display_data"
    }
   ],
   "source": [
    "plt.plot(np.log10(gamereview_counts),gamereview_mean,'x')\n",
    "plt.show()"
   ]
  },
  {
   "cell_type": "code",
   "execution_count": 281,
   "metadata": {
    "autoscroll": false,
    "collapsed": false,
    "ein.tags": "worksheet-0",
    "slideshow": {
     "slide_type": "-"
    }
   },
   "outputs": [],
   "source": [
    "df_small=df.iloc[:1000].copy()"
   ]
  },
  {
   "cell_type": "code",
   "execution_count": 17,
   "metadata": {
    "autoscroll": false,
    "collapsed": false,
    "ein.tags": "worksheet-0",
    "slideshow": {
     "slide_type": "-"
    }
   },
   "outputs": [],
   "source": [
    "#cleaning the data\n",
    "#Can use pandas built in str functionality with regex to eliminate html tags, newlines, non-text characters. \n",
    "#Can maybe also eliminate all punctuation?  Makes any \n",
    "df['comment_clean']=clean_up(df['comment'])\n"
   ]
  },
  {
   "cell_type": "code",
   "execution_count": 56,
   "metadata": {
    "autoscroll": false,
    "collapsed": false,
    "ein.tags": "worksheet-0",
    "slideshow": {
     "slide_type": "-"
    }
   },
   "outputs": [],
   "source": [
    "df_real_test['comment_clean']=clean_up(df_real_test['comment'])"
   ]
  },
  {
   "cell_type": "markdown",
   "metadata": {
    "ein.tags": "worksheet-0",
    "slideshow": {
     "slide_type": "-"
    }
   },
   "source": [
    "# Split data set into train/dev/test sets\n",
    "\n",
    "Let's grab 10% of the data for development, and 10% for training.\n",
    "Once again, we have to be "
   ]
  },
  {
   "cell_type": "code",
   "execution_count": 19,
   "metadata": {
    "autoscroll": false,
    "collapsed": false,
    "ein.tags": "worksheet-0",
    "slideshow": {
     "slide_type": "-"
    }
   },
   "outputs": [],
   "source": [
    "\n",
    "np.random.seed(seed=4565)\n",
    "#Split into test/training.\n",
    "Ntot=len(df)\n",
    "Ntrain=int(0.9*Ntot)\n",
    "\n",
    "msk=np.random.random(Ntot)<0.9\n",
    "df_train=df.loc[msk]\n",
    "df_test=df.loc[~msk]\n"
   ]
  },
  {
   "cell_type": "code",
   "execution_count": 14,
   "metadata": {
    "autoscroll": false,
    "collapsed": false,
    "ein.tags": "worksheet-0",
    "slideshow": {
     "slide_type": "-"
    }
   },
   "outputs": [],
   "source": [
    "#take care of low ratings so minimum is 1.\n",
    "msk=df['rating']<1.0;\n",
    "df.loc[msk,'rating']=1\n",
    "\n",
    "#create binary labels for rating.\n",
    "df['pos']=(df['rating']>8.0)\n",
    "df['neg']=(df['rating']<5.0)"
   ]
  },
  {
   "cell_type": "markdown",
   "metadata": {
    "ein.tags": "worksheet-0",
    "slideshow": {
     "slide_type": "-"
    }
   },
   "source": [
    "So let's vectorize this sucker.\n",
    "Since this is primarily for exploration, I'm going to limit the vectorizer to fairly common words (which occur in more than 50 messages).\n",
    "Increasing this threshold seems to pull out more meaningful estimates for the conditional probabilities for positive and negative words.\n",
    "\n",
    "It's also possible to not just use  the raw count vectorizer, but also the TF-IDF, which includes an additional weighting that de-emphasizes common words.  This apparently makes a term-frequency matrix whose spectrum better matches some of the assumptions for the SVD.  "
   ]
  },
  {
   "cell_type": "code",
   "execution_count": 275,
   "metadata": {
    "autoscroll": false,
    "collapsed": false,
    "ein.tags": "worksheet-0",
    "slideshow": {
     "slide_type": "-"
    }
   },
   "outputs": [],
   "source": [
    "?CountVectorizer"
   ]
  },
  {
   "cell_type": "code",
   "execution_count": 58,
   "metadata": {
    "autoscroll": false,
    "collapsed": false,
    "ein.tags": "worksheet-0",
    "slideshow": {
     "slide_type": "-"
    }
   },
   "outputs": [],
   "source": [
    "?CountVectorizer"
   ]
  },
  {
   "cell_type": "code",
   "execution_count": 20,
   "metadata": {
    "autoscroll": false,
    "collapsed": false,
    "ein.tags": "worksheet-0",
    "slideshow": {
     "slide_type": "-"
    }
   },
   "outputs": [],
   "source": [
    "#borrowing from http://scikit-learn.org/stable/tutorial/text_analytics/working_with_text_data.html\n",
    "count_vect=CountVectorizer(stop_words='english',lowercase=True,strip_accents='unicode',ngram_range=(1,2),min_df=20)\n",
    "X_train_counts=count_vect.fit_transform(df_train['comment_clean'])\n",
    "X_test_counts=count_vect.transform(df_test['comment_clean'])\n"
   ]
  },
  {
   "cell_type": "markdown",
   "metadata": {
    "ein.tags": "worksheet-0",
    "slideshow": {
     "slide_type": "-"
    }
   },
   "source": [
    "So one of the problems with going to multiple n-grams is the ease with which you start overfitting.\n",
    "Maybe I could explore adjusting this size manually, with the size of ngrams,   "
   ]
  },
  {
   "cell_type": "code",
   "execution_count": 365,
   "metadata": {
    "autoscroll": false,
    "collapsed": false,
    "ein.tags": "worksheet-0",
    "slideshow": {
     "slide_type": "-"
    }
   },
   "outputs": [],
   "source": [
    "tfidf_vect=TfidfVectorizer(stop_words='english',lowercase=True,strip_accents='unicode',min_df=50)\n",
    "X_train_tfidf=tfidf_vect.fit_transform(df_train['comment_clean'])\n",
    "X_test_tfidf=tfidf_vect.transform(df_test['comment_clean'])"
   ]
  },
  {
   "cell_type": "code",
   "execution_count": 57,
   "metadata": {
    "autoscroll": false,
    "collapsed": false,
    "ein.tags": "worksheet-0",
    "slideshow": {
     "slide_type": "-"
    }
   },
   "outputs": [],
   "source": [
    "X_realtest_counts=count_vect.transform(df_real_test['comment_clean'])"
   ]
  },
  {
   "cell_type": "code",
   "execution_count": 292,
   "metadata": {
    "autoscroll": false,
    "collapsed": false,
    "ein.tags": "worksheet-0",
    "slideshow": {
     "slide_type": "-"
    }
   },
   "outputs": [],
   "source": [
    "if (X_train_counts.shape[0]!=df_train.shape[0]):\n",
    "   print('Lost some entries from training set!')\n",
    "if (X_test_counts.shape[0]!=df_test.shape[0]):\n",
    "   print('Lost some entries from training set!')"
   ]
  },
  {
   "cell_type": "markdown",
   "metadata": {
    "ein.tags": "worksheet-0",
    "slideshow": {
     "slide_type": "-"
    }
   },
   "source": [
    "# Checking the vectorizer and finding common words"
   ]
  },
  {
   "cell_type": "markdown",
   "metadata": {
    "ein.tags": "worksheet-0",
    "slideshow": {
     "slide_type": "-"
    }
   },
   "source": [
    "I wanted to check that the vectorizer was working by outputting common words, and identifying the \"most positive/negative\" words, based on their counts.  This was useful as a sanity check."
   ]
  },
  {
   "cell_type": "code",
   "execution_count": 207,
   "metadata": {
    "autoscroll": false,
    "collapsed": false,
    "ein.tags": "worksheet-0",
    "slideshow": {
     "slide_type": "-"
    }
   },
   "outputs": [],
   "source": [
    "#get vocabulary dictionary, then make a dataframe, with entries as rows\n",
    "#Then sort dataframe by row entry value, and then use that as the index for the counts.\n"
   ]
  },
  {
   "cell_type": "code",
   "execution_count": 21,
   "metadata": {
    "autoscroll": false,
    "collapsed": false,
    "ein.tags": "worksheet-0",
    "slideshow": {
     "slide_type": "-"
    }
   },
   "outputs": [],
   "source": [
    "def find_indicator_words(counts,val,count_vect):\n",
    "    voc_dict=count_vect.vocabulary_\n",
    "    voc_df=pd.DataFrame.from_dict(voc_dict,orient='index')\n",
    "    voc_df1=voc_df.sort_values(by=0)\n",
    "    #Compute conditional probabilities of toxicity for each word. \n",
    "    p_pos,pw_pos,pw_neg = cond_prob( counts, val, csmooth=0.000001)\n",
    "    #make new dataframe with conditional probabilities for words being toxic, and raw probabilities of occuring in toxic/clean messages\n",
    "    #Then sort by toxicity.\n",
    "    X_cond= pw_pos*p_pos/(pw_pos*p_pos + pw_neg*(1-p_pos))\n",
    "    word_mat=np.array([counts.sum(axis=0),X_cond,pw_neg,pw_pos]).squeeze()\n",
    "    word_df=pd.DataFrame(word_mat.T,columns=['count','pcond','p_hit','p_miss'],index=voc_df1.index)\n",
    "    word_df.sort_values('pcond',ascending=False,inplace=True)\n",
    "    print(word_df.head(n=20))\n",
    "    return word_df"
   ]
  },
  {
   "cell_type": "code",
   "execution_count": 22,
   "metadata": {
    "autoscroll": false,
    "collapsed": false,
    "ein.tags": "worksheet-0",
    "slideshow": {
     "slide_type": "-"
    }
   },
   "outputs": [
    {
     "name": "stdout",
     "output_type": "stream",
     "text": [
      "                      count     pcond         p_hit    p_miss\n",
      "rate 11                38.0  1.000000  6.504739e-14  0.000007\n",
      "user malain            29.0  1.000000  6.504739e-14  0.000006\n",
      "damaging ranking       29.0  1.000000  6.504739e-14  0.000006\n",
      "malain random          29.0  1.000000  6.504739e-14  0.000006\n",
      "ranking unknown        29.0  1.000000  6.504739e-14  0.000006\n",
      "random 1s              29.0  1.000000  6.504739e-14  0.000006\n",
      "1s bunch               29.0  1.000000  6.504739e-14  0.000006\n",
      "correcting rating      29.0  1.000000  6.504739e-14  0.000006\n",
      "malain                 29.0  1.000000  6.504739e-14  0.000006\n",
      "rating user            29.0  1.000000  6.504739e-14  0.000006\n",
      "players 2017           21.0  1.000000  6.504739e-14  0.000004\n",
      "simply greatest        21.0  1.000000  6.504739e-14  0.000004\n",
      "simply favorite        20.0  1.000000  6.504739e-14  0.000004\n",
      "unknown games          31.0  0.965064  6.504745e-08  0.000006\n",
      "really damaging        30.0  0.963903  6.504745e-08  0.000006\n",
      "jlnelson73 wordpress   23.0  0.952957  6.504745e-08  0.000004\n",
      "jlnelson73             23.0  0.952957  6.504745e-08  0.000004\n",
      "greatest board         36.0  0.939952  1.300948e-07  0.000007\n",
      "simply perfect         30.0  0.928011  1.300948e-07  0.000005\n",
      "wait season            44.0  0.926384  1.951422e-07  0.000008\n"
     ]
    }
   ],
   "source": [
    "posword_df=find_indicator_words(X_train_counts,df_train['pos'].values,count_vect)"
   ]
  },
  {
   "cell_type": "markdown",
   "metadata": {
    "ein.tags": "worksheet-0",
    "slideshow": {
     "slide_type": "-"
    }
   },
   "source": [
    "Some of these positive words aren't very helpful.  For example \"boardgameexpansion\" seems to come from urls.\n",
    "\"eldadodejack\" is some guys website.  Otherwise, these are also the names of the games!"
   ]
  },
  {
   "cell_type": "code",
   "execution_count": 23,
   "metadata": {
    "autoscroll": false,
    "collapsed": false,
    "ein.tags": "worksheet-0",
    "slideshow": {
     "slide_type": "-"
    }
   },
   "outputs": [
    {
     "name": "stdout",
     "output_type": "stream",
     "text": [
      "                         count     pcond         p_hit    p_miss\n",
      "smjj                      82.0  1.000000  5.273352e-14  0.000051\n",
      "smjj loves                53.0  1.000000  5.273352e-14  0.000033\n",
      "inanimate unintelligent   29.0  1.000000  5.273352e-14  0.000018\n",
      "unsatisfied id            28.0  1.000000  5.273352e-14  0.000017\n",
      "algorithm left            28.0  1.000000  5.273352e-14  0.000017\n",
      "random inanimate          28.0  1.000000  5.273352e-14  0.000017\n",
      "unintelligent algorithm   28.0  1.000000  5.273352e-14  0.000017\n",
      "thanks smjj               26.0  1.000000  5.273352e-14  0.000016\n",
      "puzzles win               30.0  0.964691  5.273357e-08  0.000018\n",
      "inanimate                 34.0  0.937787  1.054671e-07  0.000020\n",
      "unintelligent             33.0  0.904041  1.582006e-07  0.000019\n",
      "basis waste               21.0  0.899498  1.054671e-07  0.000012\n",
      "versus team               65.0  0.854271  4.746017e-07  0.000035\n",
      "luck boring               21.0  0.849685  1.582006e-07  0.000011\n",
      "boring boring            154.0  0.829389  1.318338e-06  0.000081\n",
      "excuse game               24.0  0.824886  2.109341e-07  0.000012\n",
      "feeling unsatisfied       35.0  0.819935  3.164012e-07  0.000018\n",
      "piece crap                52.0  0.818222  4.746017e-07  0.000027\n",
      "2016 reduced              33.0  0.809142  3.164012e-07  0.000017\n",
      "talked occasion           20.0  0.790288  2.109341e-07  0.000010\n"
     ]
    }
   ],
   "source": [
    "negword_df=find_indicator_words(X_train_counts,df_train['neg'].values,count_vect)"
   ]
  },
  {
   "cell_type": "markdown",
   "metadata": {
    "ein.tags": "worksheet-0",
    "slideshow": {
     "slide_type": "-"
    }
   },
   "source": [
    "So let's look at what this pulled out for \"negative words\".\n",
    "\n",
    "There are expressions of boredom: \"interminable, torture, numbingly\".\n",
    "Disgust: \"yuck, blech, garbage,ugh\"\n",
    "Dislike:\"torture, garbage, hatred, loathe\"\n",
    "\n",
    "One of these might be a user's name: smjj. Perhaps from a genius who protests giving scores at all and gives everything 1."
   ]
  },
  {
   "cell_type": "code",
   "execution_count": 24,
   "metadata": {
    "autoscroll": false,
    "collapsed": false,
    "ein.tags": "worksheet-0",
    "slideshow": {
     "slide_type": "-"
    }
   },
   "outputs": [],
   "source": [
    "def find_words(df,st):\n",
    "    msk=df['comment_clean'].str.contains(st)\n",
    "    print(df[msk].head())\n",
    "    print(df[msk].tail())"
   ]
  },
  {
   "cell_type": "code",
   "execution_count": 25,
   "metadata": {
    "autoscroll": false,
    "collapsed": false,
    "ein.tags": "worksheet-0",
    "slideshow": {
     "slide_type": "-"
    }
   },
   "outputs": [
    {
     "name": "stdout",
     "output_type": "stream",
     "text": [
      "       userID  gameID  rating  \\\n",
      "12684   86991   10630     9.0   \n",
      "12761   86991  105551     9.0   \n",
      "26337   86991    1927     8.0   \n",
      "40390   86991  157354     9.0   \n",
      "62266   86991  150376    10.0   \n",
      "\n",
      "                                                                                                   comment  \\\n",
      "12684  Wonderfully elegant and light wargame. Simple enough to make it accessible to everyone while lea...   \n",
      "12761  It's got some very good heavy euro mechanisms tied to a strong theme and with a great deal of ne...   \n",
      "26337  Fun if played for laughs with the right group of people. If you try to play it \"seriously\" or de...   \n",
      "40390  The best Feld game I've ever played was not designed by Feld. Shocking.  Spanish review: http://...   \n",
      "62266  A game that redefines hidden roles, focusing more on personal conflict and storytelling than on ...   \n",
      "\n",
      "         pos    neg  \\\n",
      "12684   True  False   \n",
      "12761   True  False   \n",
      "26337  False  False   \n",
      "40390   True  False   \n",
      "62266   True  False   \n",
      "\n",
      "                                                                                             comment_clean  \n",
      "12684  wonderfully elegant and light wargame simple enough to make it accessible to everyone while leav...  \n",
      "12761  its got some very good heavy euro mechanisms tied to a strong theme and with a great deal of neg...  \n",
      "26337  fun if played for laughs with the right group of people if you try to play it seriously or devel...  \n",
      "40390  the best feld game ive ever played was not designed by feld shocking spanish review http eldadod...  \n",
      "62266  a game that redefines hidden roles focusing more on personal conflict and storytelling than on p...  \n",
      "        userID  gameID  rating  \\\n",
      "690334   86991  160499     8.0   \n",
      "693870   86991   28023     8.0   \n",
      "770847   86991  129622     8.0   \n",
      "786709   86991     118     8.0   \n",
      "794322   86991    1406     5.0   \n",
      "\n",
      "                                                                                                    comment  \\\n",
      "690334  Solves some of the problems with King of Tokyo, although making it slightly more complex.  Spani...   \n",
      "693870  Family racing game with pirate theme and lots of opportunities to mess with other players.  Span...   \n",
      "770847  The most famous and, in my opinion, still best microgame.  Spanish review: http://eldadodejack.w...   \n",
      "786709  A great pure auction game, which focuses on auctioning (no distracting elements). The different ...   \n",
      "794322  Too long for a luck-driven game. The negotiation part was kind of fun, but now there are far mor...   \n",
      "\n",
      "          pos    neg  \\\n",
      "690334  False  False   \n",
      "693870  False  False   \n",
      "770847  False  False   \n",
      "786709  False  False   \n",
      "794322  False  False   \n",
      "\n",
      "                                                                                              comment_clean  \n",
      "690334  solves some of the problems with king of tokyo although making it slightly more complex spanish ...  \n",
      "693870  family racing game with pirate theme and lots of opportunities to mess with other players spanis...  \n",
      "770847  the most famous and in my opinion still best microgame spanish review http eldadodejack wordpres...  \n",
      "786709  a great pure auction game which focuses on auctioning no distracting elements the different bidd...  \n",
      "794322  too long for a luck driven game the negotiation part was kind of fun but now there are far more ...  \n"
     ]
    }
   ],
   "source": [
    "find_words(df_train,'eldadodejack')"
   ]
  },
  {
   "cell_type": "markdown",
   "metadata": {
    "ein.tags": "worksheet-0",
    "slideshow": {
     "slide_type": "-"
    }
   },
   "source": [
    "So, we've evidently found someone who rates all games 1, or 10, and their enemies squabbling.\n",
    "Eliminating some duplicates will help with this for the text rating purpose. "
   ]
  },
  {
   "cell_type": "markdown",
   "metadata": {
    "ein.tags": "worksheet-0",
    "slideshow": {
     "slide_type": "-"
    }
   },
   "source": [
    "Look like there is also some markup garbage in there as well from fancier reviews, or people linking to google docs where they might have their own ratings.  Some leftover html as well.  "
   ]
  },
  {
   "cell_type": "markdown",
   "metadata": {
    "ein.tags": "worksheet-0",
    "slideshow": {
     "slide_type": "-"
    }
   },
   "source": [
    "# K-folds\n",
    "\n",
    "Let's split the training data into k-folds so we can do some cross-validation for tuning hyper-parameters.\n",
    "This will primarily show up on tuning the vectorization procedure, and any fitting hyper parameters (regularization).\n",
    "For Naive Bayes, there aren't any parameters, but this will be useful for the neural networks, and setting the penalty.\n",
    "I'll "
   ]
  },
  {
   "cell_type": "code",
   "execution_count": 26,
   "metadata": {
    "autoscroll": false,
    "collapsed": false,
    "ein.tags": "worksheet-0",
    "slideshow": {
     "slide_type": "-"
    }
   },
   "outputs": [],
   "source": [
    "from sklearn.model_selection import StratifiedKFold"
   ]
  },
  {
   "cell_type": "code",
   "execution_count": 27,
   "metadata": {
    "autoscroll": false,
    "collapsed": false,
    "ein.tags": "worksheet-0",
    "slideshow": {
     "slide_type": "-"
    }
   },
   "outputs": [],
   "source": [
    "skf=StratifiedKFold(n_splits=5,random_state=20483)\n",
    "#grab the first iteration here.\n",
    "train_index, dev_index=skf.split(df_train, df_train['pos']).__next__()"
   ]
  },
  {
   "cell_type": "code",
   "execution_count": 28,
   "metadata": {
    "autoscroll": false,
    "collapsed": false,
    "ein.tags": "worksheet-0",
    "slideshow": {
     "slide_type": "-"
    }
   },
   "outputs": [],
   "source": [
    "df_train0=df_train.iloc[train_index]\n",
    "df_dev0=df_train.iloc[dev_index]"
   ]
  },
  {
   "cell_type": "markdown",
   "metadata": {
    "ein.tags": "worksheet-0",
    "slideshow": {
     "slide_type": "-"
    }
   },
   "source": [
    "# Naive Bayes Classifier\n",
    "\n",
    "I want to implement a Naive Bayes classifier as a baseline.  I've written my own version, which I will try to compare to\n",
    "scikit-learn's version.  (They both return the same result now).\n",
    "\n",
    "This basically treats the comments in a bag-of-words sense, and drops any correlations between the words.  \n",
    "\n",
    "* Estimate $p(w|T)$ from counts in term-frequency matrix.\n",
    "* Use Bayes Rule\n",
    "  $ P(T|w) = \\frac{p(T)p(w|T)}{\\text{normalization const}}$\n",
    "\n",
    "  \\begin{equation}\n",
    "    p(T|\\text{words}) = P(T) \\prod_{words}\\frac{p(w_i|T)}{p(w_i|T)\n",
    "  \\end{equation}\n",
    "\n",
    "* Use Logarithms, and compare log-odds for toxicity/non-toxic.\n",
    "\n",
    "So this is a classification point of view.  Ultimately, we want to treat this as a regression problem.\n",
    "A classification algorithm is a poor fit for this, since it ignores the similarity between adjacent scores. \n",
    "Nonetheless, I have a working version, so let's play with that."
   ]
  },
  {
   "cell_type": "code",
   "execution_count": 29,
   "metadata": {
    "autoscroll": false,
    "collapsed": false,
    "ein.tags": "worksheet-0",
    "slideshow": {
     "slide_type": "-"
    }
   },
   "outputs": [
    {
     "name": "stderr",
     "output_type": "stream",
     "text": [
      "/home/jonathan/Data-Science/PDSG_DataScience/PDSG_rectext/bayes.py:57: RuntimeWarning: overflow encountered in exp\n",
      "  prob=1/(1+np.exp(log_Cscore-log_Tscore))\n"
     ]
    }
   ],
   "source": [
    "#go though this split, and find the hits\n",
    "actual=df_train0['pos'].values\n",
    "actual_dev=df_dev0['pos'].values\n",
    "msk=actual\n",
    "#find indices for both split and hit.\n",
    "train_hit_msk=train_index[msk]\n",
    "Xhit = X_train_counts[train_index]\n",
    "#compute conditional probabilities within this sample\n",
    "p_hit,pw_hit,pw_miss = cond_prob( Xhit, actual, csmooth=0.000001)\n",
    "#now compute the bayes factors\n",
    "pred,prob,logH,logM,log_Hword,log_Mword=naive_bayes(Xhit,pw_hit,pw_miss,p_hit)    "
   ]
  },
  {
   "cell_type": "code",
   "execution_count": 30,
   "metadata": {
    "autoscroll": false,
    "collapsed": false,
    "ein.tags": "worksheet-0",
    "slideshow": {
     "slide_type": "-"
    }
   },
   "outputs": [
    {
     "data": {
      "text/plain": [
       "<matplotlib.figure.Figure at 0x7efbbb50c898>"
      ]
     },
     "metadata": {},
     "output_type": "display_data"
    },
    {
     "name": "stderr",
     "output_type": "stream",
     "text": [
      "/home/jonathan/anaconda3/lib/python3.6/site-packages/ipykernel_launcher.py:3: RuntimeWarning: divide by zero encountered in log\n",
      "  This is separate from the ipykernel package so we can avoid doing imports until\n"
     ]
    }
   ],
   "source": [
    "#Plot a histogram of the log probabilities.  \n",
    "plt.figure()\n",
    "plt.hist(np.maximum(-10,np.log(prob)),bins=100)\n",
    "plt.show()"
   ]
  },
  {
   "cell_type": "code",
   "execution_count": 31,
   "metadata": {
    "autoscroll": false,
    "collapsed": false,
    "ein.tags": "worksheet-0",
    "slideshow": {
     "slide_type": "-"
    }
   },
   "outputs": [
    {
     "data": {
      "text/plain": [
       "<matplotlib.figure.Figure at 0x7efbbb62b710>"
      ]
     },
     "metadata": {},
     "output_type": "display_data"
    }
   ],
   "source": [
    "#Plot a histogram of the log-odds \n",
    "plt.figure()\n",
    "bins=np.linspace(-50,50,100)\n",
    "plt.hist(logH-logM,bins=bins,log=True)\n",
    "plt.ylabel('Counts')\n",
    "plt.xlabel('Log Odds of Hit')\n",
    "plt.show()"
   ]
  },
  {
   "cell_type": "code",
   "execution_count": null,
   "metadata": {
    "autoscroll": false,
    "collapsed": false,
    "ein.tags": "worksheet-0",
    "slideshow": {
     "slide_type": "-"
    }
   },
   "outputs": [],
   "source": [
    "Maybe should also plot length of comments? To what extent are these mirroring a similar underlying shape, with long tails?"
   ]
  },
  {
   "cell_type": "code",
   "execution_count": 32,
   "metadata": {
    "autoscroll": false,
    "collapsed": false,
    "ein.tags": "worksheet-0",
    "slideshow": {
     "slide_type": "-"
    }
   },
   "outputs": [
    {
     "data": {
      "text/plain": [
       "<matplotlib.figure.Figure at 0x7efbbb663898>"
      ]
     },
     "metadata": {},
     "output_type": "display_data"
    }
   ],
   "source": [
    "com_len=df_train['comment_clean'].apply(lambda x: len(str.split(x,' ')))\n",
    "plt.hist(np.log10(com_len),log=True)\n",
    "plt.xlabel('Log-Character length of message')\n",
    "plt.show()"
   ]
  },
  {
   "cell_type": "code",
   "execution_count": 33,
   "metadata": {
    "autoscroll": false,
    "collapsed": false,
    "ein.tags": "worksheet-0",
    "slideshow": {
     "slide_type": "-"
    }
   },
   "outputs": [
    {
     "name": "stdout",
     "output_type": "stream",
     "text": [
      "Log-loss is 7.2079829918574685\n",
      "AUROC is 0.7282859065985177\n"
     ]
    },
    {
     "name": "stdout",
     "output_type": "stream",
     "text": [
      "(606412, 1) (606412, 1)\n",
      "True Positive 0.1442995851005587. False Positive 0.1158041067788896\n",
      "False Negative 0.092885694874112. True Negative 0.6470106132464397\n"
     ]
    }
   ],
   "source": [
    "logloss,score_rates=check_predictions(pred,actual)"
   ]
  },
  {
   "cell_type": "markdown",
   "metadata": {
    "ein.tags": "worksheet-0",
    "slideshow": {
     "slide_type": "-"
    }
   },
   "source": [
    "Interesting. The mean log-loss is surprisingly sensitive to the chosen zero-offset.  I think this reflects the fact that the naive-bayes method is returning a lot of incredibly small probabilities (10^{-100})."
   ]
  },
  {
   "cell_type": "code",
   "execution_count": 34,
   "metadata": {
    "autoscroll": false,
    "collapsed": false,
    "ein.tags": "worksheet-0",
    "slideshow": {
     "slide_type": "-"
    }
   },
   "outputs": [
    {
     "data": {
      "text/plain": [
       "MultinomialNB(alpha=0.01, class_prior=None, fit_prior=True)"
      ]
     },
     "execution_count": 34,
     "metadata": {},
     "output_type": "execute_result"
    }
   ],
   "source": [
    "from sklearn.naive_bayes import MultinomialNB\n",
    "\n",
    "nb = MultinomialNB(alpha=0.01)\n",
    "nb.fit(X_train_counts[train_index],df_train0['pos'].values)"
   ]
  },
  {
   "cell_type": "code",
   "execution_count": 35,
   "metadata": {
    "autoscroll": false,
    "collapsed": false,
    "ein.tags": "worksheet-0",
    "slideshow": {
     "slide_type": "-"
    }
   },
   "outputs": [],
   "source": [
    "#Make predictions on training/dev sets\n",
    "pred_nb=nb.predict(X_train_counts[train_index])\n",
    "pred_dev_nb=nb.predict(X_train_counts[dev_index])"
   ]
  },
  {
   "cell_type": "code",
   "execution_count": 36,
   "metadata": {
    "autoscroll": false,
    "collapsed": false,
    "ein.tags": "worksheet-0",
    "slideshow": {
     "slide_type": "-"
    }
   },
   "outputs": [
    {
     "name": "stdout",
     "output_type": "stream",
     "text": [
      "Log-loss is 7.216298741049285\n",
      "AUROC is 0.7281041422199969\n"
     ]
    },
    {
     "name": "stdout",
     "output_type": "stream",
     "text": [
      "Checking Training data\n",
      "(606412, 1) (606412, 1)\n",
      "True Positive 0.14428309466171513. False Positive 0.116028376747162\n",
      "False Negative 0.09290218531295555. True Negative 0.6467863432781673\n"
     ]
    }
   ],
   "source": [
    "print('Checking Training data')\n",
    "nb_stats=check_predictions(pred_nb,actual)"
   ]
  },
  {
   "cell_type": "markdown",
   "metadata": {
    "ein.tags": "worksheet-0",
    "slideshow": {
     "slide_type": "-"
    }
   },
   "source": [
    "One of the errors I've found comes from when the vectorizer transforms a sentence with no recognized words.  Those sentences are lost.  The sparse algorithm ditches those rows? "
   ]
  },
  {
   "cell_type": "code",
   "execution_count": 37,
   "metadata": {
    "autoscroll": false,
    "collapsed": false,
    "ein.tags": "worksheet-0",
    "slideshow": {
     "slide_type": "-"
    }
   },
   "outputs": [
    {
     "name": "stdout",
     "output_type": "stream",
     "text": [
      "Checking dev set\n",
      "(151604, 1) (151604, 1)\n",
      "True Positive 0.13168517981055908. False Positive 0.12603229466240995\n",
      "False Negative 0.10549853565868975. True Negative 0.6367839898683412\n",
      "Log-loss is 7.996892352087403\n",
      "AUROC is 0.6949917852372789\n"
     ]
    }
   ],
   "source": [
    "print('Checking dev set')\n",
    "nb_stats=check_predictions(pred_dev_nb,actual_dev)"
   ]
  },
  {
   "cell_type": "markdown",
   "metadata": {
    "ein.tags": "worksheet-0",
    "slideshow": {
     "slide_type": "-"
    }
   },
   "source": [
    "So how is that doing?  What fraction have reviews "
   ]
  },
  {
   "cell_type": "code",
   "execution_count": 327,
   "metadata": {
    "autoscroll": false,
    "collapsed": false,
    "ein.tags": "worksheet-0",
    "slideshow": {
     "slide_type": "-"
    }
   },
   "outputs": [
    {
     "data": {
      "text/plain": [
       "0.43027677552555027"
      ]
     },
     "execution_count": 327,
     "metadata": {},
     "output_type": "execute_result"
    }
   ],
   "source": [
    "np.mean(actual)"
   ]
  },
  {
   "cell_type": "markdown",
   "metadata": {
    "ein.tags": "worksheet-0",
    "slideshow": {
     "slide_type": "-"
    }
   },
   "source": [
    "## Naive Bayes False Positives and Negatives\n",
    "\n",
    "Let's now look a bit at the misclassified results."
   ]
  },
  {
   "cell_type": "code",
   "execution_count": 38,
   "metadata": {
    "autoscroll": false,
    "collapsed": false,
    "ein.tags": "worksheet-0",
    "slideshow": {
     "slide_type": "-"
    }
   },
   "outputs": [],
   "source": [
    "#fixing shapes to avoid broadcasting\n",
    "actual=np.reshape(actual,(len(actual),1))\n",
    "pred=np.reshape(pred,(len(actual),1))    \n",
    "\n",
    "fp_msk = ((pred==True)&(actual==False))    \n",
    "fn_msk = ((pred==False)&(actual==True))            "
   ]
  },
  {
   "cell_type": "code",
   "execution_count": 39,
   "metadata": {
    "autoscroll": false,
    "collapsed": false,
    "ein.tags": "worksheet-0",
    "slideshow": {
     "slide_type": "-"
    }
   },
   "outputs": [],
   "source": [
    "df_fn=df_train0[fn_msk][['comment','rating']]\n",
    "df_fp=df_train0[fp_msk][['comment','rating']]"
   ]
  },
  {
   "cell_type": "code",
   "execution_count": 40,
   "metadata": {
    "autoscroll": false,
    "collapsed": false,
    "ein.tags": "worksheet-0",
    "slideshow": {
     "slide_type": "-"
    }
   },
   "outputs": [
    {
     "data": {
      "text/plain": [
       "                                                                                                    comment  \\\n168250                                                      + Pandemic: In the Lab + Pandemic: On the Brink   \n168253  First game design that blew my mind. Instant classic for me and everyone I show it to. I should ...   \n168278  Clearly deserving of all the plaudits (and I don't care much for the BIG DEBATE)  An outstanding...   \n168282  First game of Age of Steam. Great game, great tension, and there are obviously some mistakes tha...   \n168290  It's been a long time since i've had such a good impression about a game. It is a game of managi...   \n\n        rating  \n168250     7.0  \n168253     7.0  \n168278     6.0  \n168282     6.0  \n168290     6.0  "
      ]
     },
     "execution_count": 40,
     "metadata": {},
     "output_type": "execute_result"
    }
   ],
   "source": [
    "df_fp.head()"
   ]
  },
  {
   "cell_type": "code",
   "execution_count": 344,
   "metadata": {
    "autoscroll": false,
    "collapsed": false,
    "ein.tags": "worksheet-0",
    "slideshow": {
     "slide_type": "-"
    }
   },
   "outputs": [
    {
     "data": {
      "text/plain": [
       "                                                                                                    comment  \\\n",
       "167395                  I really enjoyed it but i have only played it once and i would like to play again!    \n",
       "167405  Not a big fan of deckbuilders, nor do I typically like one one one destruction confrontation, bu...   \n",
       "167406  1000 games @ 57% win rate on the app. Unsure if that is a good result or just perserverance. upd...   \n",
       "167408  I like this deckbuilding game a lot, and I've played it a ton digitally. It's small enough to ea...   \n",
       "167412                                                                                         Now on iPad.   \n",
       "\n",
       "        rating  \n",
       "167395     9.5  \n",
       "167405     8.0  \n",
       "167406     8.0  \n",
       "167408     8.0  \n",
       "167412     8.0  "
      ]
     },
     "execution_count": 344,
     "metadata": {},
     "output_type": "execute_result"
    }
   ],
   "source": [
    "df_fn.head()"
   ]
  },
  {
   "cell_type": "code",
   "execution_count": null,
   "metadata": {
    "autoscroll": false,
    "collapsed": false,
    "ein.tags": "worksheet-0",
    "slideshow": {
     "slide_type": "-"
    }
   },
   "outputs": [],
   "source": [
    "## Multiple Classes\n",
    "\n",
    "For fun, let's try putting each review into a bucket based on the score, and build a Naive Bayes classifier for each bin.\n"
   ]
  },
  {
   "cell_type": "code",
   "execution_count": 42,
   "metadata": {
    "autoscroll": false,
    "collapsed": false,
    "ein.tags": "worksheet-0",
    "slideshow": {
     "slide_type": "-"
    }
   },
   "outputs": [],
   "source": [
    "Ytrain=np.floor(df_train['rating']*2).values.astype(int)\n",
    "Ytrain0=Ytrain[train_index]\n",
    "Ydev0=Ytrain[dev_index]"
   ]
  },
  {
   "cell_type": "code",
   "execution_count": 43,
   "metadata": {
    "autoscroll": false,
    "collapsed": false,
    "ein.tags": "worksheet-0",
    "slideshow": {
     "slide_type": "-"
    }
   },
   "outputs": [
    {
     "data": {
      "text/plain": [
       "MultinomialNB(alpha=0.01, class_prior=None, fit_prior=True)"
      ]
     },
     "execution_count": 43,
     "metadata": {},
     "output_type": "execute_result"
    }
   ],
   "source": [
    "nb_all = MultinomialNB(alpha=0.01)\n",
    "nb_all.fit(X_train_counts[train_index],Ytrain0)\n"
   ]
  },
  {
   "cell_type": "code",
   "execution_count": 44,
   "metadata": {
    "autoscroll": false,
    "collapsed": false,
    "ein.tags": "worksheet-0",
    "slideshow": {
     "slide_type": "-"
    }
   },
   "outputs": [],
   "source": [
    "pred_nb_all=nb_all.predict(X_train_counts[train_index])/2\n",
    "pred_dev_nb_all=nb_all.predict(X_train_counts[dev_index])/2"
   ]
  },
  {
   "cell_type": "code",
   "execution_count": 59,
   "metadata": {
    "autoscroll": false,
    "collapsed": false,
    "ein.tags": "worksheet-0",
    "slideshow": {
     "slide_type": "-"
    }
   },
   "outputs": [],
   "source": [
    "def errors(x,y):\n",
    "    rmse=np.sqrt(np.mean( (x-y)*(x-y)))\n",
    "    mad=np.mean(np.abs(x-y))\n",
    "    return rmse,mad"
   ]
  },
  {
   "cell_type": "code",
   "execution_count": 60,
   "metadata": {
    "autoscroll": false,
    "collapsed": false,
    "ein.tags": "worksheet-0",
    "slideshow": {
     "slide_type": "-"
    }
   },
   "outputs": [
    {
     "data": {
      "text/plain": [
       "(1.4519374478682496, 0.9042549691133924)"
      ]
     },
     "execution_count": 60,
     "metadata": {},
     "output_type": "execute_result"
    }
   ],
   "source": [
    "errors(pred_nb_all,df_train0['rating'])"
   ]
  },
  {
   "cell_type": "code",
   "execution_count": 61,
   "metadata": {
    "autoscroll": false,
    "collapsed": false,
    "ein.tags": "worksheet-0",
    "slideshow": {
     "slide_type": "-"
    }
   },
   "outputs": [
    {
     "data": {
      "text/plain": [
       "(1.6923247664589591, 1.2955374099289365)"
      ]
     },
     "execution_count": 61,
     "metadata": {},
     "output_type": "execute_result"
    }
   ],
   "source": [
    "errors(7.2,df_train0['rating'])"
   ]
  },
  {
   "cell_type": "markdown",
   "metadata": {
    "ein.tags": "worksheet-0",
    "slideshow": {
     "slide_type": "-"
    }
   },
   "source": [
    "Let's check this against the development set."
   ]
  },
  {
   "cell_type": "code",
   "execution_count": 64,
   "metadata": {
    "autoscroll": false,
    "collapsed": false,
    "ein.tags": "worksheet-0",
    "slideshow": {
     "slide_type": "-"
    }
   },
   "outputs": [
    {
     "name": "stdout",
     "output_type": "stream",
     "text": [
      "(1.6482452581473976, 1.1801908611250402)\n",
      "(7.121455623653504, 6.943727082860698)\n"
     ]
    }
   ],
   "source": [
    "print(errors(pred_dev_nb_all,df_dev0['rating']))"
   ]
  },
  {
   "cell_type": "code",
   "execution_count": 65,
   "metadata": {
    "autoscroll": false,
    "collapsed": false,
    "ein.tags": "worksheet-0",
    "slideshow": {
     "slide_type": "-"
    }
   },
   "outputs": [
    {
     "data": {
      "text/plain": [
       "(1.7017978234173143, 1.3059945541675015)"
      ]
     },
     "execution_count": 65,
     "metadata": {},
     "output_type": "execute_result"
    }
   ],
   "source": [
    "errors(7.2,df_dev0['rating'])"
   ]
  },
  {
   "cell_type": "code",
   "execution_count": null,
   "metadata": {
    "autoscroll": false,
    "collapsed": false,
    "ein.tags": "worksheet-0",
    "slideshow": {
     "slide_type": "-"
    }
   },
   "outputs": [],
   "source": [
    "So, it does a bit better than the super simple guess.\n",
    "One of the downsides of this particular problem is that the scores are fairly similar.\n",
    "These are by and large, good games, so they have good scores. \n",
    "People also use the rating scale inconsistently, so there is quite a bit of noise.\n",
    "\n",
    "I think this (like the previous rating experiment) will struggle to push below this noise floor.\n",
    "Nor is it really important?  "
   ]
  },
  {
   "cell_type": "code",
   "execution_count": 72,
   "metadata": {
    "autoscroll": false,
    "collapsed": false,
    "ein.tags": "worksheet-0",
    "slideshow": {
     "slide_type": "-"
    }
   },
   "outputs": [
    {
     "data": {
      "text/plain": [
       "7.2016890870378365"
      ]
     },
     "execution_count": 72,
     "metadata": {},
     "output_type": "execute_result"
    }
   ],
   "source": [
    "df['rating'].mean()"
   ]
  },
  {
   "cell_type": "code",
   "execution_count": 69,
   "metadata": {
    "autoscroll": false,
    "collapsed": false,
    "ein.tags": "worksheet-0",
    "slideshow": {
     "slide_type": "-"
    }
   },
   "outputs": [],
   "source": [
    "#now predict all counts\n",
    "pred_realtest_nb=nb_all.predict(X_realtest_counts)/2\n",
    "df_real_test['nb']=pred_realtest_nb"
   ]
  },
  {
   "cell_type": "code",
   "execution_count": 73,
   "metadata": {
    "autoscroll": false,
    "collapsed": false,
    "ein.tags": "worksheet-0",
    "slideshow": {
     "slide_type": "-"
    }
   },
   "outputs": [],
   "source": [
    "df_real_test['const']=7.2"
   ]
  },
  {
   "cell_type": "code",
   "execution_count": 75,
   "metadata": {
    "autoscroll": false,
    "collapsed": false,
    "ein.tags": "worksheet-0",
    "slideshow": {
     "slide_type": "-"
    }
   },
   "outputs": [],
   "source": [
    "df_real_test[['userID','gameID','nb']].to_csv('data/nb_test_pred.csv',index=False)\n",
    "df_real_test[['userID','gameID','const']].to_csv('data/const_test_pred.csv',index=False)\n"
   ]
  },
  {
   "cell_type": "markdown",
   "metadata": {
    "ein.tags": "worksheet-0",
    "slideshow": {
     "slide_type": "-"
    }
   },
   "source": [
    "# Linear Regression\n",
    "\n",
    "We could just face the fact this is a regression problem, and build a linear regressor on the term-frequency matrix.\n"
   ]
  },
  {
   "cell_type": "code",
   "execution_count": 76,
   "metadata": {
    "autoscroll": false,
    "collapsed": false,
    "ein.tags": "worksheet-0",
    "slideshow": {
     "slide_type": "-"
    }
   },
   "outputs": [],
   "source": [
    "from sklearn import linear_model"
   ]
  },
  {
   "cell_type": "code",
   "execution_count": 78,
   "metadata": {
    "autoscroll": false,
    "collapsed": false,
    "ein.tags": "worksheet-0",
    "slideshow": {
     "slide_type": "-"
    }
   },
   "outputs": [],
   "source": [
    "ridge=linear_model.Ridge(alpha=0.01)\n",
    "lasso=linear_model.Lasso(alpha=0.01)\n",
    "Y=df_train['rating'].values"
   ]
  },
  {
   "cell_type": "markdown",
   "metadata": {
    "ein.tags": "worksheet-0",
    "slideshow": {
     "slide_type": "-"
    }
   },
   "source": [
    "## Lasso\n",
    "\n",
    "Let's try using the lasso. Currently, it seems to just fit the mean.\n",
    "The lasso is a regularized linear regression, which tends to return sparse models.\n"
   ]
  },
  {
   "cell_type": "code",
   "execution_count": 417,
   "metadata": {
    "autoscroll": false,
    "collapsed": false,
    "ein.tags": "worksheet-0",
    "slideshow": {
     "slide_type": "-"
    }
   },
   "outputs": [
    {
     "data": {
      "text/plain": [
       "array([ 7. ,  7. ,  7. , ...,  7.5,  7.5,  7.5])"
      ]
     },
     "execution_count": 417,
     "metadata": {},
     "output_type": "execute_result"
    }
   ],
   "source": [
    "Y"
   ]
  },
  {
   "cell_type": "code",
   "execution_count": 79,
   "metadata": {
    "autoscroll": false,
    "collapsed": false,
    "ein.tags": "worksheet-0",
    "slideshow": {
     "slide_type": "-"
    }
   },
   "outputs": [
    {
     "data": {
      "text/plain": [
       "Lasso(alpha=0.01, copy_X=True, fit_intercept=True, max_iter=1000,\n   normalize=False, positive=False, precompute=False, random_state=None,\n   selection='cyclic', tol=0.0001, warm_start=False)"
      ]
     },
     "execution_count": 79,
     "metadata": {},
     "output_type": "execute_result"
    }
   ],
   "source": [
    "lasso.fit(X_train_counts[train_index], Y[train_index])"
   ]
  },
  {
   "cell_type": "code",
   "execution_count": 83,
   "metadata": {
    "autoscroll": false,
    "collapsed": false,
    "ein.tags": "worksheet-0",
    "slideshow": {
     "slide_type": "-"
    }
   },
   "outputs": [
    {
     "data": {
      "text/plain": [
       "(1.5968342564669999, 1.2082255947862153)"
      ]
     },
     "execution_count": 83,
     "metadata": {},
     "output_type": "execute_result"
    }
   ],
   "source": [
    "Lpred=lasso.predict(X_train_counts[train_index])\n",
    "Lpred_dev=lasso.predict(X_train_counts[dev_index])\n",
    "\n"
   ]
  },
  {
   "cell_type": "code",
   "execution_count": null,
   "metadata": {
    "autoscroll": false,
    "collapsed": false,
    "ein.tags": "worksheet-0",
    "slideshow": {
     "slide_type": "-"
    }
   },
   "outputs": [],
   "source": []
  },
  {
   "cell_type": "code",
   "execution_count": 107,
   "metadata": {
    "autoscroll": false,
    "collapsed": false,
    "ein.tags": "worksheet-0",
    "slideshow": {
     "slide_type": "-"
    }
   },
   "outputs": [],
   "source": [
    "Lpred_real_test=lasso.predict(X_realtest_counts)\n",
    "df_real_test['Lpred']=Lpred_real_test\n",
    "df_real_test[['userID','gameID','Lpred']].to_csv('data/lasso_test_pred.csv',index=False)"
   ]
  },
  {
   "cell_type": "code",
   "execution_count": 86,
   "metadata": {
    "autoscroll": false,
    "collapsed": false,
    "ein.tags": "worksheet-0",
    "slideshow": {
     "slide_type": "-"
    }
   },
   "outputs": [
    {
     "name": "stdout",
     "output_type": "stream",
     "text": [
      "Lasso train error: (1.5968342564669999, 1.2082255947862153)\n",
      "Lasso dev error: (1.603519303584094, 1.2167404918314322)\n"
     ]
    }
   ],
   "source": [
    "print('Lasso train error:',errors(Lpred,Y[train_index]))\n",
    "print('Lasso dev error:',errors(Lpred_dev,Y[dev_index]))"
   ]
  },
  {
   "cell_type": "code",
   "execution_count": 105,
   "metadata": {
    "autoscroll": false,
    "collapsed": false,
    "ein.tags": "worksheet-0",
    "slideshow": {
     "slide_type": "-"
    }
   },
   "outputs": [
    {
     "data": {
      "text/plain": [
       "<matplotlib.figure.Figure at 0x7efb8d6c6a58>"
      ]
     },
     "metadata": {},
     "output_type": "display_data"
    }
   ],
   "source": [
    "plt.figure(figsize=(20,6))\n",
    "plt.subplot(131)\n",
    "plt.hist(Lpred,bins=np.arange(1,11),log=True)\n",
    "plt.title('Lasso Regression')\n",
    "plt.subplot(132)\n",
    "plt.hist(pred_nb_all,bins=np.arange(1,11),log=True)\n",
    "plt.title('Naive Bayes Multiclassification')\n",
    "plt.subplot(133)\n",
    "plt.hist(df['rating'],bins=np.arange(1,11),log=True)\n",
    "plt.title('Actual Rating')\n",
    "plt.show()"
   ]
  },
  {
   "cell_type": "code",
   "execution_count": 81,
   "metadata": {
    "autoscroll": false,
    "collapsed": false,
    "ein.tags": "worksheet-0",
    "slideshow": {
     "slide_type": "-"
    }
   },
   "outputs": [
    {
     "data": {
      "text/plain": [
       "0.41411842009948163"
      ]
     },
     "execution_count": 81,
     "metadata": {},
     "output_type": "execute_result"
    }
   ],
   "source": [
    "Lpred.std()"
   ]
  },
  {
   "cell_type": "markdown",
   "metadata": {
    "ein.tags": "worksheet-0",
    "slideshow": {
     "slide_type": "-"
    }
   },
   "source": [
    "# Dimensionality Reduction\n",
    "\n",
    "Let's use the truncated SVD for dimensionality reduction (or latent semantic analysis?)\n",
    "Apparently TF-IDF matrix is superior to straight term frequency matrix for this purpose  (more closely matches assumptions in the SVD about the noise.)\n",
    "Should maybe also symmetrize transformation (as suggested in paper comparing hyperparameters between word2vec and older SVD methods).\n",
    "They suggest using $T=U \\Lambda V = (U \\Lambda^{1/2}) (\\Lambda^{1/2} V)$ for the projection.  "
   ]
  },
  {
   "cell_type": "code",
   "execution_count": 31,
   "metadata": {
    "autoscroll": false,
    "collapsed": false,
    "ein.tags": "worksheet-0",
    "slideshow": {
     "slide_type": "-"
    }
   },
   "outputs": [
    {
     "data": {
      "text/plain": [
       "TruncatedSVD(algorithm='randomized', n_components=100, n_iter=20,\n",
       "       random_state=None, tol=0.0)"
      ]
     },
     "execution_count": 31,
     "metadata": {},
     "output_type": "execute_result"
    }
   ],
   "source": [
    "from sklearn.decomposition import TruncatedSVD\n",
    "#took a minute or two\n",
    "TSVD=TruncatedSVD(n_components=100,n_iter=20)\n",
    "TSVD.fit(X_train_tfidf)"
   ]
  },
  {
   "cell_type": "code",
   "execution_count": 32,
   "metadata": {
    "autoscroll": false,
    "collapsed": false,
    "ein.tags": "worksheet-0",
    "slideshow": {
     "slide_type": "-"
    }
   },
   "outputs": [],
   "source": [
    "#actually transform the results \n",
    "X_train_trans=TSVD.transform(X_train_tfidf)         "
   ]
  },
  {
   "cell_type": "code",
   "execution_count": 33,
   "metadata": {
    "autoscroll": false,
    "collapsed": false,
    "ein.tags": "worksheet-0",
    "slideshow": {
     "slide_type": "-"
    }
   },
   "outputs": [
    {
     "data": {
      "image/png": "[encoded data removed]",
      "text/plain": [
       "<matplotlib.figure.Figure at 0x7efbb7b189e8>"
      ]
     },
     "metadata": {},
     "output_type": "display_data"
    },
    {
     "data": {
      "image/png": "[encoded data removed]",
      "text/plain": [
       "<matplotlib.figure.Figure at 0x7efbb6afbef0>"
      ]
     },
     "metadata": {},
     "output_type": "display_data"
    }
   ],
   "source": [
    "plt.loglog(TSVD.explained_variance_)\n",
    "plt.xlabel('Singular value label')\n",
    "plt.ylabel('Singular value')\n",
    "plt.show()\n",
    "plt.plot(TSVD.explained_variance_)\n",
    "plt.xlabel('Singular value label')\n",
    "plt.ylabel('Singular value')\n",
    "plt.show()"
   ]
  },
  {
   "cell_type": "markdown",
   "metadata": {
    "ein.tags": "worksheet-0",
    "slideshow": {
     "slide_type": "-"
    }
   },
   "source": [
    "So looks like power-law decay in the spectrum. We're primarily interested in using this\n",
    "for dimensionality reduction.  Ideally, I'd pick some reasonable threshold for keeping a\n",
    "certain fraction of the explained variance.\n",
    "(Could estimate a power law tail, compute threshold to capture that percentage).\n",
    "\n",
    "But for now, we'll just set the threshold to be 100, as a suitably small arbitrary choice.  \n",
    "We will next use the transformed results in a \"deep\" neural network.  "
   ]
  },
  {
   "cell_type": "code",
   "execution_count": 42,
   "metadata": {
    "autoscroll": false,
    "collapsed": false,
    "ein.tags": "worksheet-0",
    "slideshow": {
     "slide_type": "-"
    }
   },
   "outputs": [],
   "source": [
    "#actually transform the dev/test data.\n",
    "X_dev_trans=TSVD.transform(X_dev_tfidf)"
   ]
  },
  {
   "cell_type": "code",
   "execution_count": 24,
   "metadata": {
    "autoscroll": false,
    "collapsed": false,
    "ein.tags": "worksheet-0",
    "slideshow": {
     "slide_type": "-"
    }
   },
   "outputs": [],
   "source": [
    "Nsub=1000\n",
    "np.random.seed(454)\n",
    "#Should really update to just use sklearn's stratified Kfold.\n"
   ]
  },
  {
   "cell_type": "markdown",
   "metadata": {
    "ein.tags": "worksheet-0",
    "slideshow": {
     "slide_type": "-"
    }
   },
   "source": [
    "# Deep Network\n",
    "\n",
    "Another idea is to build a deep neural network on the term-frequency matrix, effectively running with extensions to the Naive Bayes model.\n",
    "This will use the reduced term-frequency matrix after the Truncated SVD.  "
   ]
  },
  {
   "cell_type": "code",
   "execution_count": 43,
   "metadata": {
    "autoscroll": false,
    "collapsed": false,
    "ein.tags": "worksheet-0",
    "slideshow": {
     "slide_type": "-"
    }
   },
   "outputs": [],
   "source": [
    "import tensorflow as tf\n",
    "from tensorflow.contrib.layers import fully_connected, l2_regularizer\n",
    "from tensorflow.contrib.rnn import BasicRNNCell,LSTMCell"
   ]
  },
  {
   "cell_type": "code",
   "execution_count": 44,
   "metadata": {
    "autoscroll": false,
    "collapsed": false,
    "ein.tags": "worksheet-0",
    "slideshow": {
     "slide_type": "-"
    }
   },
   "outputs": [],
   "source": [
    "from deep_network import deep_dropout_NN"
   ]
  },
  {
   "cell_type": "code",
   "execution_count": 48,
   "metadata": {
    "autoscroll": false,
    "collapsed": false,
    "ein.tags": "worksheet-0",
    "slideshow": {
     "slide_type": "-"
    }
   },
   "outputs": [
    {
     "data": {
      "text/plain": [
       "<matplotlib.figure.Figure at 0x7efb80f7dd30>"
      ]
     },
     "metadata": {},
     "output_type": "display_data"
    },
    {
     "name": "stdout",
     "output_type": "stream",
     "text": [
      "iter #1000. Current log-loss:0.13786394894123077\n",
      "\n",
      "\n",
      "WARNING:tensorflow:Error encountered when serializing regularization_losses.\n",
      "Type is unsupported, or the types of the items don't match field type in CollectionDef.\n",
      "'function' object has no attribute 'name'\n"
     ]
    }
   ],
   "source": [
    "#Ignore the \"error about serializing - this is a known problem with saving models created using \n",
    "#modules like fully connected, since their components are not named.\n",
    "#The models are saved, and the computations work.\n",
    "\n",
    "actual=df_train['toxic'].astype(int).values\n",
    "save_name='./tf_models/deep_relu_drop'\n",
    "dNN=deep_dropout_NN(X_train_trans.shape)\n",
    "dNN.run_graph(X_train_trans,actual,save_name)"
   ]
  },
  {
   "cell_type": "code",
   "execution_count": 62,
   "metadata": {
    "autoscroll": false,
    "collapsed": false,
    "ein.tags": "worksheet-0",
    "slideshow": {
     "slide_type": "-"
    }
   },
   "outputs": [
    {
     "name": "stdout",
     "output_type": "stream",
     "text": [
      "newer predict\n",
      "INFO:tensorflow:Restoring parameters from ./tf_models/deep_relu_drop-1000\n"
     ]
    }
   ],
   "source": [
    "#model_name='tf_models/deep_relu_drop-{}'.format(dNN.n_iter)\n",
    "model_name='./tf_models/deep_relu_drop-{}'.format(1000)\n",
    "dnn_pred2=dNN.predict_all(model_name,X_train_trans)\n",
    "dnn_pred2=dnn_pred2.reshape(-1)"
   ]
  },
  {
   "cell_type": "code",
   "execution_count": 63,
   "metadata": {
    "autoscroll": false,
    "collapsed": false,
    "ein.tags": "worksheet-0",
    "slideshow": {
     "slide_type": "-"
    }
   },
   "outputs": [
    {
     "name": "stdout",
     "output_type": "stream",
     "text": [
      "True Positive 0.06058354438328066. False Positive 0.006645457019067752\n",
      "False Negative 0.036105238922494086. True Negative 0.8966657596751575\n",
      "Log-loss is 1.4765620415427758\n",
      "AUROC is 0.8096130944597727\n"
     ]
    }
   ],
   "source": [
    "#Check scores on training data\n",
    "dnn_conf=check_predictions(dnn_pred2,actual)"
   ]
  },
  {
   "cell_type": "code",
   "execution_count": 64,
   "metadata": {
    "autoscroll": false,
    "collapsed": false,
    "ein.tags": "worksheet-0",
    "slideshow": {
     "slide_type": "-"
    }
   },
   "outputs": [
    {
     "name": "stdout",
     "output_type": "stream",
     "text": [
      "True Positive 0.08531301672352806. False Positive 0.01651422232454947\n",
      "False Negative 0.011375766582246687. True Negative 0.8867969943696757\n",
      "Log-loss is 0.9632992952381051\n",
      "AUROC is 0.9320323498876192\n"
     ]
    }
   ],
   "source": [
    "#Compare with naive-bayes training\n",
    "nb_conf=check_predictions(pred_nb,actual)"
   ]
  },
  {
   "cell_type": "code",
   "execution_count": null,
   "metadata": {
    "autoscroll": false,
    "collapsed": false,
    "ein.tags": "worksheet-0",
    "slideshow": {
     "slide_type": "-"
    }
   },
   "outputs": [],
   "source": [
    "Right now the network seems undertrained."
   ]
  },
  {
   "cell_type": "code",
   "execution_count": null,
   "metadata": {
    "autoscroll": false,
    "collapsed": false,
    "ein.tags": "worksheet-0",
    "slideshow": {
     "slide_type": "-"
    }
   },
   "outputs": [],
   "source": [
    "## Predictions from Deep Neural Network\n",
    "\n",
    "Let's now run some predictions on the full training and development sets.  "
   ]
  },
  {
   "cell_type": "code",
   "execution_count": 66,
   "metadata": {
    "autoscroll": false,
    "collapsed": false,
    "ein.tags": "worksheet-0",
    "slideshow": {
     "slide_type": "-"
    }
   },
   "outputs": [
    {
     "name": "stdout",
     "output_type": "stream",
     "text": [
      "newer predict\n",
      "INFO:tensorflow:Restoring parameters from tf_models/deep_relu_drop-1000\n",
      "4 layer ReLU network: on Dev set\n",
      "True Positive 0.06067773196307847. False Positive 0.006614061159135149\n",
      "False Negative 0.036011051342696276. True Negative 0.8966971555350901\n",
      "Log-loss is 1.4722245180949745\n",
      "AUROC is 0.8101175383672511\n",
      "newer predict\n",
      "INFO:tensorflow:Restoring parameters from tf_models/deep_relu_drop-1000\n",
      "4 layer ReLU network: on Dev set\n",
      "True Positive 0.05386029984727114. False Positive 0.011594925661565315\n",
      "False Negative 0.04173549855063429. True Negative 0.8928092759405293\n",
      "Log-loss is 1.841976868183656\n",
      "AUROC is 0.7752982535343149\n"
     ]
    }
   ],
   "source": [
    "#Try testing on the dev-set\n",
    "model_name='tf_models/deep_relu_drop-{}'.format(dNN.n_iter)\n",
    "nn_pred_train = dNN.predict_all(model_name,X_train_trans)\n",
    "print('4 layer ReLU network: on Dev set')\n",
    "actual_train=df_train['toxic'].values\n",
    "nn_pred_train=nn_pred_train.reshape(-1)\n",
    "nn_stats=check_predictions(nn_pred_train,actual_train)\n",
    "\n",
    "nn_pred_dev = dNN.predict_all(model_name,X_dev_trans)\n",
    "print('4 layer ReLU network: on Dev set')\n",
    "actual_dev=df_dev['toxic'].values\n",
    "nn_pred_dev=nn_pred_dev.reshape(-1)\n",
    "nn_stats=check_predictions(nn_pred_dev,actual_dev)"
   ]
  },
  {
   "cell_type": "code",
   "execution_count": 67,
   "metadata": {
    "autoscroll": false,
    "collapsed": false,
    "ein.tags": "worksheet-0",
    "slideshow": {
     "slide_type": "-"
    }
   },
   "outputs": [
    {
     "name": "stdout",
     "output_type": "stream",
     "text": [
      "Naive Bayes on Dev set\n",
      "True Positive 0.06311753888352087. False Positive 0.02322102047813484\n",
      "False Negative 0.032478259514384565. True Negative 0.8811831811239598\n",
      "Log-loss is 1.9238035444874515\n",
      "AUROC is 0.8172894153987111\n"
     ]
    }
   ],
   "source": [
    "print('Naive Bayes on Dev set')\n",
    "pred_dev_nb=nb.predict(X_dev_counts)\n",
    "nb_stats=check_predictions(pred_dev_nb,actual_dev)"
   ]
  },
  {
   "cell_type": "code",
   "execution_count": null,
   "metadata": {
    "autoscroll": false,
    "collapsed": false,
    "ein.tags": "worksheet-0",
    "slideshow": {
     "slide_type": "-"
    }
   },
   "outputs": [],
   "source": [
    "Prior work with a (3-layer ReLU-tanh) network led to over-fitting to the training set.  Not surprising, since there was no regularization here.\n",
    "It could outperform the Naive Bayes method on the training set, but had worse performance on the development dataset.\n",
    "\n",
    "Let's put in some dropout. Putting in dropout after each layer, with a 0.1 dropout probability improved performance."
   ]
  },
  {
   "cell_type": "code",
   "execution_count": 294,
   "metadata": {
    "autoscroll": false,
    "collapsed": false,
    "ein.tags": "worksheet-0",
    "slideshow": {
     "slide_type": "-"
    }
   },
   "outputs": [
    {
     "data": {
      "text/plain": [
       "[0.63848495096381463, 0.69363963655066008]"
      ]
     },
     "execution_count": 294,
     "metadata": {},
     "output_type": "execute_result"
    }
   ],
   "source": [
    "#dev scores\n",
    "[f1_score(actual_dev,nn_pred_dev),f1_score(actual_dev,pred_dev_nb)]"
   ]
  },
  {
   "cell_type": "code",
   "execution_count": 292,
   "metadata": {
    "autoscroll": false,
    "collapsed": false,
    "ein.tags": "worksheet-0",
    "slideshow": {
     "slide_type": "-"
    }
   },
   "outputs": [
    {
     "name": "stdout",
     "output_type": "stream",
     "text": [
      "[0.75269211943220748, 0.97498410006359981]\n",
      "[0.68780126065999259, 0.66262049268118539]\n"
     ]
    }
   ],
   "source": [
    "print([f1_score(actual,nn_pred_train),f1_score(actual,pred_nb)])\n",
    "print([f1_score(actual_dev,nn_pred_dev),f1_score(actual_dev,pred_dev_nb)])"
   ]
  },
  {
   "cell_type": "markdown",
   "metadata": {
    "ein.tags": "worksheet-0",
    "slideshow": {
     "slide_type": "-"
    }
   },
   "source": [
    "I am finding that beyond one or two layers, the network just seems to output zeros.  Maybe the learning rate was too high? Yes - this is a common problem."
   ]
  },
  {
   "cell_type": "markdown",
   "metadata": {
    "ein.tags": "worksheet-0",
    "slideshow": {
     "slide_type": "-"
    }
   },
   "source": [
    "# Recurrent Neural Network\n",
    "\n",
    "So let's try the current flavour of the month approach: a recurrent neural network.\n",
    "Based on talking to Joseph and Fahim at the group, they used a two-layer neural network based on the just the 2000 most common words, using ReLU activation.  (I think they said their approach was inspired by someone at Kaggle.)\n",
    "Let's try something similar, with initially a single layer leaky ReLU layer.\n",
    "\n",
    "The idea is that the network parses each word of the sentence (to better capture logical structure).\n",
    "Each word needs an index.  Initially this is an index in the vocabulary V, where $V\\sim10^6$ or more.  That's an infeasibly large matrix.\n",
    "We need some form of dimensionality reduction.  Either by picking the most distinctive words (which actually appear in multiple messages),\n",
    "or by projecting down via SVD. "
   ]
  }
 ],
 "metadata": {
  "kernelspec": {
   "display_name": "Python 3",
   "name": "python3"
  },
  "language_info": {
   "codemirror_mode": {
    "name": "ipython",
    "version": 3
   },
   "file_extension": ".py",
   "mimetype": "text/x-python",
   "name": "python",
   "nbconvert_exporter": "python",
   "pygments_lexer": "ipython3",
   "version": "3.6.3"
  },
  "name": "init_explore.ipynb"
 },
 "nbformat": 4,
 "nbformat_minor": 2
}
